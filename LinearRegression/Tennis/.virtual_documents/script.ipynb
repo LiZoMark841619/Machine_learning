import pandas as pd
import matplotlib.pyplot as plt
from sklearn.model_selection import train_test_split
from sklearn.linear_model import LinearRegression
import seaborn as sns



# load and investigate the data here:
data = pd.read_csv('tennis_stats.csv')
df = pd.DataFrame(data)


# perform exploratory analysis here:


df.head()


df.shape


df.info()


plt.figure(figsize=[14, 14])
sns.heatmap(df[df.columns.to_list()[7:]].corr(), annot=True, cmap='coolwarm')
plt.show()
plt.clf()


## perform single feature linear regressions here:


columns = df.columns.to_list()[7:23]


df.Year.unique()


for feature in columns:
    plt.style.use('fivethirtyeight')
    plt.figure(figsize=[8, 5])
    sns.scatterplot(x='Wins', y=feature, data=df, hue='Year', palette='rocket')
    plt.title(f'Scatter plot of Wins and {feature}')
    plt.xlabel('Wins')
    plt.ylabel(f'{feature}')
    plt.show()
    plt.clf()


columns


## perform two feature linear regressions here:



X1 = df[['Wins', 'Losses']]
y = df[['Winnings']]
x_train1, x_test1, y_train1, y_test1 = train_test_split(X1, y, train_size=0.8, test_size=0.2, random_state=6)
mlr1 = LinearRegression()


model1 = mlr1.fit(x_train1, y_train1)
y_predict1 = model1.predict(x_test1)
mlr1.coef_




mlr1.score(x_train1, y_train1)


mlr1.score(x_test1, y_test1)


plt.scatter(y_test1, y_predict1)
plt.xlabel('Test y data')
plt.ylabel('Predicted y data')
plt.show()
plt.clf()


## perform multiple feature linear regressions here:



X2 = df[['Aces', 'BreakPointsFaced', 'BreakPointsOpportunities', 'DoubleFaults', 'ReturnGamesPlayed', 'ServiceGamesPlayed', 'Wins', 'Losses']]
y = df[['Winnings']]
x_train2, x_test2, y_train2, y_test2 = train_test_split(X2, y, train_size = 0.8, test_size = 0.2, random_state=6)
mlr2 = LinearRegression()
model2 = mlr2.fit(x_train2, y_train2)
y_predict2 = mlr2.predict(x_test2)


mlr2.score(x_train2, y_train2)


mlr2.score(x_test2, y_test2)












































































































