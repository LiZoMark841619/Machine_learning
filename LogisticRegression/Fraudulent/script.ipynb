{
 "cells": [
  {
   "cell_type": "code",
   "execution_count": 201,
   "metadata": {},
   "outputs": [],
   "source": [
    "import seaborn as sns\n",
    "import pandas as pd\n",
    "import numpy as np\n",
    "import matplotlib.pyplot as plt\n",
    "from sklearn.linear_model import LogisticRegression\n",
    "from sklearn.model_selection import train_test_split\n",
    "from sklearn.preprocessing import StandardScaler\n",
    "import warnings"
   ]
  },
  {
   "cell_type": "code",
   "execution_count": 202,
   "metadata": {},
   "outputs": [],
   "source": [
    "warnings.filterwarnings('ignore')"
   ]
  },
  {
   "cell_type": "code",
   "execution_count": 203,
   "metadata": {},
   "outputs": [
    {
     "data": {
      "text/html": [
       "<div>\n",
       "<style scoped>\n",
       "    .dataframe tbody tr th:only-of-type {\n",
       "        vertical-align: middle;\n",
       "    }\n",
       "\n",
       "    .dataframe tbody tr th {\n",
       "        vertical-align: top;\n",
       "    }\n",
       "\n",
       "    .dataframe thead th {\n",
       "        text-align: right;\n",
       "    }\n",
       "</style>\n",
       "<table border=\"1\" class=\"dataframe\">\n",
       "  <thead>\n",
       "    <tr style=\"text-align: right;\">\n",
       "      <th></th>\n",
       "      <th>step</th>\n",
       "      <th>type</th>\n",
       "      <th>amount</th>\n",
       "      <th>nameOrig</th>\n",
       "      <th>oldbalanceOrg</th>\n",
       "      <th>newbalanceOrig</th>\n",
       "      <th>nameDest</th>\n",
       "      <th>oldbalanceDest</th>\n",
       "      <th>newbalanceDest</th>\n",
       "      <th>isFraud</th>\n",
       "    </tr>\n",
       "  </thead>\n",
       "  <tbody>\n",
       "    <tr>\n",
       "      <th>0</th>\n",
       "      <td>8</td>\n",
       "      <td>CASH_OUT</td>\n",
       "      <td>158007.12</td>\n",
       "      <td>C424875646</td>\n",
       "      <td>0.0</td>\n",
       "      <td>0.0</td>\n",
       "      <td>C1298177219</td>\n",
       "      <td>474016.32</td>\n",
       "      <td>1618631.97</td>\n",
       "      <td>0</td>\n",
       "    </tr>\n",
       "    <tr>\n",
       "      <th>1</th>\n",
       "      <td>236</td>\n",
       "      <td>CASH_OUT</td>\n",
       "      <td>457948.30</td>\n",
       "      <td>C1342616552</td>\n",
       "      <td>0.0</td>\n",
       "      <td>0.0</td>\n",
       "      <td>C1323169990</td>\n",
       "      <td>2720411.37</td>\n",
       "      <td>3178359.67</td>\n",
       "      <td>0</td>\n",
       "    </tr>\n",
       "  </tbody>\n",
       "</table>\n",
       "</div>"
      ],
      "text/plain": [
       "   step      type     amount     nameOrig  oldbalanceOrg  newbalanceOrig  \\\n",
       "0     8  CASH_OUT  158007.12   C424875646            0.0             0.0   \n",
       "1   236  CASH_OUT  457948.30  C1342616552            0.0             0.0   \n",
       "\n",
       "      nameDest  oldbalanceDest  newbalanceDest  isFraud  \n",
       "0  C1298177219       474016.32      1618631.97        0  \n",
       "1  C1323169990      2720411.37      3178359.67        0  "
      ]
     },
     "execution_count": 203,
     "metadata": {},
     "output_type": "execute_result"
    }
   ],
   "source": [
    "# Load the data\n",
    "transactions = pd.read_csv('transactions.csv')\n",
    "transactions.head(2)"
   ]
  },
  {
   "cell_type": "code",
   "execution_count": 204,
   "metadata": {},
   "outputs": [
    {
     "name": "stdout",
     "output_type": "stream",
     "text": [
      "<class 'pandas.core.frame.DataFrame'>\n",
      "RangeIndex: 199999 entries, 0 to 199998\n",
      "Data columns (total 10 columns):\n",
      " #   Column          Non-Null Count   Dtype  \n",
      "---  ------          --------------   -----  \n",
      " 0   step            199999 non-null  int64  \n",
      " 1   type            199999 non-null  object \n",
      " 2   amount          199999 non-null  float64\n",
      " 3   nameOrig        199999 non-null  object \n",
      " 4   oldbalanceOrg   199999 non-null  float64\n",
      " 5   newbalanceOrig  199999 non-null  float64\n",
      " 6   nameDest        199999 non-null  object \n",
      " 7   oldbalanceDest  199999 non-null  float64\n",
      " 8   newbalanceDest  199999 non-null  float64\n",
      " 9   isFraud         199999 non-null  int64  \n",
      "dtypes: float64(5), int64(2), object(3)\n",
      "memory usage: 15.3+ MB\n"
     ]
    }
   ],
   "source": [
    "transactions.info()"
   ]
  },
  {
   "cell_type": "code",
   "execution_count": 205,
   "metadata": {},
   "outputs": [
    {
     "name": "stdout",
     "output_type": "stream",
     "text": [
      "The number of fraudulent transactions is 282\n",
      "The aggregate statistics of amount is:\n",
      "count    1.999990e+05\n",
      "mean     1.802425e+05\n",
      "std      6.255482e+05\n",
      "min      0.000000e+00\n",
      "25%      1.338746e+04\n",
      "50%      7.426695e+04\n",
      "75%      2.086376e+05\n",
      "max      5.204280e+07\n",
      "Name: amount, dtype: float64\n"
     ]
    }
   ],
   "source": [
    "# How many fraudulent transactions?\n",
    "frad_trans = np.sum(transactions.isFraud == 1)\n",
    "print(f'The number of fraudulent transactions is {frad_trans}')\n",
    "# Summary statistics on amount column\n",
    "aggreg = transactions.amount.describe()\n",
    "print(f'The aggregate statistics of amount is:\\n{aggreg}')"
   ]
  },
  {
   "cell_type": "code",
   "execution_count": 206,
   "metadata": {},
   "outputs": [
    {
     "data": {
      "image/png": "[encoded data removed]",
      "text/plain": [
       "<Figure size 640x480 with 1 Axes>"
      ]
     },
     "metadata": {},
     "output_type": "display_data"
    },
    {
     "data": {
      "text/plain": [
       "<Figure size 640x480 with 0 Axes>"
      ]
     },
     "metadata": {},
     "output_type": "display_data"
    }
   ],
   "source": [
    "sns.histplot(transactions.amount, color='red', bins=200)\n",
    "plt.title('Distribution transactions')\n",
    "plt.xlabel('Ranges')\n",
    "plt.ylabel('Count')\n",
    "plt.yticks([0, 50000, 100000, 150000, 200000])\n",
    "plt.xlim([0, 2500000])\n",
    "plt.xticks([0, 250000, 500000, 750000, 1000000, 2500000])\n",
    "plt.show()\n",
    "plt.clf()"
   ]
  },
  {
   "cell_type": "code",
   "execution_count": 207,
   "metadata": {},
   "outputs": [
    {
     "name": "stdout",
     "output_type": "stream",
     "text": [
      "            type  isPayment\n",
      "0       CASH_OUT          0\n",
      "1       CASH_OUT          0\n",
      "2        CASH_IN          0\n",
      "3       CASH_OUT          0\n",
      "4       CASH_OUT          0\n",
      "...          ...        ...\n",
      "199994   PAYMENT          1\n",
      "199995  CASH_OUT          0\n",
      "199996   CASH_IN          0\n",
      "199997   CASH_IN          0\n",
      "199998  CASH_OUT          0\n",
      "\n",
      "[199999 rows x 2 columns]\n"
     ]
    }
   ],
   "source": [
    "# Create isPayment field\n",
    "transactions['isPayment'] = 0\n",
    "transactions['isPayment'][(transactions.type == 'PAYMENT') | (transactions.type == 'DEBIT')] = 1\n",
    "print(transactions[['type', 'isPayment']])"
   ]
  },
  {
   "cell_type": "code",
   "execution_count": 208,
   "metadata": {},
   "outputs": [
    {
     "name": "stdout",
     "output_type": "stream",
     "text": [
      "            type  isMovement\n",
      "0       CASH_OUT           1\n",
      "1       CASH_OUT           1\n",
      "2        CASH_IN           0\n",
      "3       CASH_OUT           1\n",
      "4       CASH_OUT           1\n",
      "...          ...         ...\n",
      "199994   PAYMENT           0\n",
      "199995  CASH_OUT           1\n",
      "199996   CASH_IN           0\n",
      "199997   CASH_IN           0\n",
      "199998  CASH_OUT           1\n",
      "\n",
      "[199999 rows x 2 columns]\n"
     ]
    }
   ],
   "source": [
    "# Create isMovement field\n",
    "transactions['isMovement'] = 0\n",
    "transactions.isMovement[(transactions.type == 'CASH_OUT') | (transactions.type == 'TRANSFER')] = 1\n",
    "print(transactions[['type', 'isMovement']])"
   ]
  },
  {
   "cell_type": "code",
   "execution_count": 209,
   "metadata": {},
   "outputs": [
    {
     "name": "stdout",
     "output_type": "stream",
     "text": [
      "   step      type     amount     nameOrig  oldbalanceOrg  newbalanceOrig  \\\n",
      "0     8  CASH_OUT  158007.12   C424875646           0.00            0.00   \n",
      "1   236  CASH_OUT  457948.30  C1342616552           0.00            0.00   \n",
      "2    37   CASH_IN  153602.99   C900876541    11160428.67     11314031.67   \n",
      "3   331  CASH_OUT   49555.14   C177696810       10865.00            0.00   \n",
      "4   250  CASH_OUT   29648.02   C788941490           0.00            0.00   \n",
      "\n",
      "      nameDest  oldbalanceDest  newbalanceDest  isFraud  isPayment  \\\n",
      "0  C1298177219       474016.32      1618631.97        0          0   \n",
      "1  C1323169990      2720411.37      3178359.67        0          0   \n",
      "2   C608741097      3274930.56      3121327.56        0          0   \n",
      "3   C462716348            0.00        49555.14        0          0   \n",
      "4  C1971700992        56933.09        86581.10        0          0   \n",
      "\n",
      "   isMovement  accountDiff  \n",
      "0           1    474016.32  \n",
      "1           1   2720411.37  \n",
      "2           0   7885498.11  \n",
      "3           1     10865.00  \n",
      "4           1     56933.09  \n"
     ]
    }
   ],
   "source": [
    "# Create accountDiff field\n",
    "transactions['accountDiff'] = np.abs(transactions.oldbalanceOrg - transactions.oldbalanceDest)\n",
    "print(transactions.head())"
   ]
  },
  {
   "cell_type": "code",
   "execution_count": 210,
   "metadata": {},
   "outputs": [],
   "source": [
    "# Create features and label variables\n",
    "features = transactions[['amount', 'isPayment', 'isMovement', 'accountDiff']]\n",
    "labels = transactions['isFraud']\n",
    "X = features\n",
    "y = labels"
   ]
  },
  {
   "cell_type": "code",
   "execution_count": 211,
   "metadata": {},
   "outputs": [],
   "source": [
    "# Split dataset\n",
    "X_train, X_test, y_train, y_test = train_test_split(X, y, test_size=0.3, random_state=6)"
   ]
  },
  {
   "cell_type": "code",
   "execution_count": 212,
   "metadata": {},
   "outputs": [],
   "source": [
    "# Normalize the features variables\n",
    "scaler = StandardScaler()\n",
    "X_train = scaler.fit_transform(X_train)\n",
    "X_test = scaler.transform(X_test)"
   ]
  },
  {
   "cell_type": "code",
   "execution_count": 213,
   "metadata": {},
   "outputs": [],
   "source": [
    "# Fit the model to the training data\n",
    "lrm = LogisticRegression()\n",
    "model = lrm.fit(X_train, y_train)"
   ]
  },
  {
   "cell_type": "code",
   "execution_count": 214,
   "metadata": {},
   "outputs": [
    {
     "name": "stdout",
     "output_type": "stream",
     "text": [
      "0.998514275101965\n",
      "0.9987\n",
      "[[ 0.22592823 -0.73562634  2.28381832 -0.62093738]]\n"
     ]
    }
   ],
   "source": [
    "# Score the model on the training data\n",
    "print(model.score(X_train, y_train))\n",
    "\n",
    "# Score the model on the test data\n",
    "print(model.score(X_test, y_test))\n",
    "\n",
    "# Print the model coefficients\n",
    "print(model.coef_)"
   ]
  },
  {
   "cell_type": "code",
   "execution_count": 215,
   "metadata": {},
   "outputs": [],
   "source": [
    "# New transaction data\n",
    "transaction1 = np.array([123456.78, 0.0, 1.0, 54670.1])\n",
    "transaction2 = np.array([98765.43, 1.0, 0.0, 8524.75])\n",
    "transaction3 = np.array([543678.31, 1.0, 0.0, 510025.5])\n",
    "\n",
    "# Create a new transaction\n",
    "transaction4 = np.array([70000.31, 1.0, 0.0, 60000.5])"
   ]
  },
  {
   "cell_type": "code",
   "execution_count": 216,
   "metadata": {},
   "outputs": [
    {
     "data": {
      "text/plain": [
       "array([[1.2345678e+05, 0.0000000e+00, 1.0000000e+00, 5.4670100e+04],\n",
       "       [9.8765430e+04, 1.0000000e+00, 0.0000000e+00, 8.5247500e+03],\n",
       "       [5.4367831e+05, 1.0000000e+00, 0.0000000e+00, 5.1002550e+05],\n",
       "       [7.0000310e+04, 1.0000000e+00, 0.0000000e+00, 6.0000500e+04]])"
      ]
     },
     "execution_count": 216,
     "metadata": {},
     "output_type": "execute_result"
    }
   ],
   "source": [
    "# Combine new transactions into a single array\n",
    "sample_transactions = np.stack((transaction1, transaction2, transaction3, transaction4))\n",
    "sample_transactions"
   ]
  },
  {
   "cell_type": "code",
   "execution_count": 217,
   "metadata": {},
   "outputs": [],
   "source": [
    "list_trans = [[123456.78, 0.0, 1.0, 54670.1],\n",
    "              [98765.43, 1.0, 0.0, 8524.75],\n",
    "              [543678.31, 1.0, 0.0, 510025.5]\n",
    "              ]\n",
    "#list_trans"
   ]
  },
  {
   "cell_type": "code",
   "execution_count": 218,
   "metadata": {},
   "outputs": [
    {
     "name": "stdout",
     "output_type": "stream",
     "text": [
      "[0 0 0 0]\n"
     ]
    }
   ],
   "source": [
    "# Normalize the new transactions\n",
    "sample_transactions = scaler.transform(sample_transactions)\n",
    "# Predict fraud on the new transactions\n",
    "pred_samples = model.predict(sample_transactions)\n",
    "print(pred_samples)"
   ]
  },
  {
   "cell_type": "code",
   "execution_count": 219,
   "metadata": {},
   "outputs": [
    {
     "name": "stdout",
     "output_type": "stream",
     "text": [
      "[[9.96446977e-01 3.55302293e-03]\n",
      " [9.99992442e-01 7.55789856e-06]\n",
      " [9.99991788e-01 8.21245766e-06]\n",
      " [9.99992581e-01 7.41896487e-06]]\n"
     ]
    }
   ],
   "source": [
    "# Show probabilities on the new transactions\n",
    "pred_samples_prob = model.predict_proba(sample_transactions)\n",
    "print(pred_samples_prob)"
   ]
  }
 ],
 "metadata": {
  "kernelspec": {
   "display_name": "base",
   "language": "python",
   "name": "python3"
  },
  "language_info": {
   "codemirror_mode": {
    "name": "ipython",
    "version": 3
   },
   "file_extension": ".py",
   "mimetype": "text/x-python",
   "name": "python",
   "nbconvert_exporter": "python",
   "pygments_lexer": "ipython3",
   "version": "3.11.4"
  },
  "orig_nbformat": 4
 },
 "nbformat": 4,
 "nbformat_minor": 2
}
