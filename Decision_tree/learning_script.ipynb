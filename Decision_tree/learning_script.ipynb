{
 "cells": [
  {
   "cell_type": "code",
   "execution_count": 1,
   "metadata": {},
   "outputs": [],
   "source": [
    "## The usual libraries, loading the dataset and performing the train-test split\n",
    "import pandas as pd\n",
    "from sklearn.model_selection import train_test_split"
   ]
  },
  {
   "cell_type": "code",
   "execution_count": 2,
   "metadata": {},
   "outputs": [
    {
     "name": "stdout",
     "output_type": "stream",
     "text": [
      "0       False\n",
      "1       False\n",
      "2       False\n",
      "3       False\n",
      "4       False\n",
      "        ...  \n",
      "1723     True\n",
      "1724     True\n",
      "1725    False\n",
      "1726     True\n",
      "1727     True\n",
      "Name: accep, Length: 1728, dtype: bool\n"
     ]
    }
   ],
   "source": [
    "df = pd.read_csv('https://archive.ics.uci.edu/ml/machine-learning-databases/car/car.data', names=['buying', 'maint', 'doors', 'persons', 'lug_boot', 'safety', 'accep'])\n",
    "df['accep'] = ~(df['accep']=='unacc') #1 is acceptable, 0 if not acceptable\n",
    "X = pd.get_dummies(df.iloc[:,0:6])\n",
    "y = df['accep']\n",
    "print(y)\n",
    "x_train, x_test, y_train, y_test = train_test_split(X,y, random_state=0, test_size=0.2)\n",
    "\n",
    "## Functions to calculate gini impurity and information gain\n",
    "\n",
    "def gini(data):\n",
    "    \"\"\"calculate the Gini Impurity\n",
    "    \"\"\"\n",
    "    data = pd.Series(data)\n",
    "    return 1 - sum(data.value_counts(normalize=True)**2)\n",
    "   \n",
    "def info_gain(left, right, current_impurity):\n",
    "    \"\"\"Information Gain associated with creating a node/split data.\n",
    "    Input: left, right are data in left branch, right banch, respectively\n",
    "    current_impurity is the data impurity before splitting into left, right branches\n",
    "    \"\"\"\n",
    "    # weight for gini score of the left branch\n",
    "    w = float(len(left)) / (len(left) + len(right))\n",
    "    return current_impurity - w * gini(left) - (1 - w) * gini(right)"
   ]
  },
  {
   "cell_type": "code",
   "execution_count": 9,
   "metadata": {},
   "outputs": [
    {
     "name": "stdout",
     "output_type": "stream",
     "text": [
      "No. of cars with persons_2 == 0: 917\n",
      "No. of cars with persons_2 == 1: 465\n"
     ]
    }
   ],
   "source": [
    "#### -----------------------------------\n",
    "## 1. Calculate sample sizes for a split on `persons_2`\n",
    "left = y_train[x_train.persons_2 == 0]\n",
    "right = y_train[x_train.persons_2 == 1]\n",
    "len_left = len(left)\n",
    "len_right = len(right)\n",
    "print ('No. of cars with persons_2 == 0:', len_left)\n",
    "print ('No. of cars with persons_2 == 1:', len_right)"
   ]
  },
  {
   "cell_type": "code",
   "execution_count": 4,
   "metadata": {},
   "outputs": [
    {
     "name": "stdout",
     "output_type": "stream",
     "text": [
      "Original gini impurity (without splitting!): 0.41848785606128835\n",
      "Left split gini impurity: 0.49485722848081015\n",
      "Right split gini impurity: 0.0\n"
     ]
    }
   ],
   "source": [
    "## 2. Gini impurity calculations\n",
    "gi = gini(y_train)\n",
    "gini_left = gini(left)\n",
    "gini_right = gini(right)\n",
    "\n",
    "print('Original gini impurity (without splitting!):', gi)\n",
    "print('Left split gini impurity:', gini_left)\n",
    "print('Right split gini impurity:', gini_right)"
   ]
  },
  {
   "cell_type": "code",
   "execution_count": 8,
   "metadata": {},
   "outputs": [
    {
     "data": {
      "text/plain": [
       "'Information gain for persons_2: 0.008479852755873124'"
      ]
     },
     "execution_count": 8,
     "metadata": {},
     "output_type": "execute_result"
    }
   ],
   "source": [
    "## 3.Information gain when using feature `persons_2`\n",
    "info_gain_persons_2 = info_gain(left, right, gi)\n",
    "f'Information gain for persons_2: {info_gain_persons_2}'"
   ]
  },
  {
   "cell_type": "code",
   "execution_count": 6,
   "metadata": {},
   "outputs": [
    {
     "name": "stdout",
     "output_type": "stream",
     "text": [
      "Greatest impurity gain at:0    safety_low\n",
      "1      0.091603\n",
      "Name: 19, dtype: object\n",
      "                 0         1\n",
      "19      safety_low  0.091603\n",
      "12       persons_2  0.090135\n",
      "18     safety_high  0.045116\n",
      "14    persons_more  0.025261\n",
      "13       persons_4  0.020254\n",
      "7      maint_vhigh  0.013622\n",
      "3     buying_vhigh  0.011001\n",
      "20      safety_med  0.008480\n",
      "17  lug_boot_small  0.006758\n",
      "1       buying_low  0.006519\n",
      "5        maint_low  0.005343\n",
      "6        maint_med  0.004197\n",
      "15    lug_boot_big  0.003913\n",
      "2       buying_med  0.003338\n",
      "8          doors_2  0.002021\n",
      "0      buying_high  0.001094\n",
      "4       maint_high  0.000530\n",
      "10         doors_4  0.000423\n",
      "16    lug_boot_med  0.000386\n",
      "11     doors_5more  0.000325\n",
      "9          doors_3  0.000036\n"
     ]
    }
   ],
   "source": [
    "## 4. Which feature split maximizes information gain?\n",
    "info_gain_list = []\n",
    "for i in x_train.columns:\n",
    "  left = y_train[x_train[i]==0]\n",
    "  right = y_train[x_train[i]==1]\n",
    "  info_gain_list.append([i, info_gain(left, right, gi)])\n",
    "\n",
    "info_gain_table = pd.DataFrame(info_gain_list).sort_values(1,ascending=False)\n",
    "print(f'Greatest impurity gain at:{info_gain_table.iloc[0,:]}')\n",
    "print(info_gain_table)"
   ]
  },
  {
   "cell_type": "code",
   "execution_count": null,
   "metadata": {},
   "outputs": [],
   "source": []
  }
 ],
 "metadata": {
  "kernelspec": {
   "display_name": "base",
   "language": "python",
   "name": "python3"
  },
  "language_info": {
   "codemirror_mode": {
    "name": "ipython",
    "version": 3
   },
   "file_extension": ".py",
   "mimetype": "text/x-python",
   "name": "python",
   "nbconvert_exporter": "python",
   "pygments_lexer": "ipython3",
   "version": "3.11.4"
  },
  "orig_nbformat": 4
 },
 "nbformat": 4,
 "nbformat_minor": 2
}
