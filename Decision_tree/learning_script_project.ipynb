{
 "cells": [
  {
   "cell_type": "code",
   "execution_count": 20,
   "metadata": {},
   "outputs": [],
   "source": [
    "import seaborn as sns\n",
    "import pandas as pd\n",
    "import numpy as np\n",
    "from sklearn.model_selection import train_test_split\n",
    "from sklearn.metrics import accuracy_score\n",
    "import matplotlib.pyplot as plt\n",
    "from sklearn.tree import DecisionTreeClassifier\n",
    "from sklearn import tree"
   ]
  },
  {
   "cell_type": "code",
   "execution_count": 21,
   "metadata": {},
   "outputs": [],
   "source": [
    "cols = ['name','landmass','zone', 'area', 'population', 'language','religion','bars','stripes','colours',\n",
    "'red','green','blue','gold','white','black','orange','mainhue','circles',\n",
    "'crosses','saltires','quarters','sunstars','crescent','triangle','icon','animate','text','topleft','botright']\n",
    "\n",
    "df= pd.read_csv(\"https://archive.ics.uci.edu/ml/machine-learning-databases/flags/flag.data\", names = cols)\n",
    "\n",
    "#variable names to use as predictors\n",
    "var = [ 'red', 'green', 'blue','gold', 'white', 'black', 'orange', 'mainhue','bars','stripes',\n",
    "'circles','crosses', 'saltires','quarters','sunstars','triangle','animate']"
   ]
  },
  {
   "cell_type": "code",
   "execution_count": null,
   "metadata": {},
   "outputs": [],
   "source": [
    "#Print number of countries by landmass, or continent\n",
    "print(df.landmass.value_counts())\n",
    "\n",
    "#Create a new dataframe with only flags from Europe and Oceania\n",
    "df_36 = df[df['landmass'].isin([3,6])]\n",
    "df_36.head(2)"
   ]
  },
  {
   "cell_type": "code",
   "execution_count": null,
   "metadata": {},
   "outputs": [],
   "source": [
    "#Create labels for only Europe and Oceania\n",
    "labels = df_36['landmass']\n",
    "labels"
   ]
  },
  {
   "cell_type": "code",
   "execution_count": null,
   "metadata": {},
   "outputs": [],
   "source": [
    "#Print the variable types for the predictors\n",
    "df_36[var].dtypes"
   ]
  },
  {
   "cell_type": "code",
   "execution_count": null,
   "metadata": {},
   "outputs": [],
   "source": [
    "#Create dummy variables for categorical predictors\n",
    "data = pd.get_dummies(df_36[var])\n",
    "#Split data into a train and test set\n",
    "x_train, x_test, y_train, y_test = train_test_split(data, labels, test_size=0.20, random_state=80)\n",
    "\n",
    "#Fit a decision tree for max_depth values 1-20; save the accuracy score in acc_depth\n",
    "depths = list(range(1, 21))\n",
    "acc_depth = []\n",
    "for i in depths:\n",
    "  dtm = DecisionTreeClassifier(max_depth = i)\n",
    "  dtm.fit(x_train, y_train)\n",
    "  y_pred = dtm.predict(x_test)\n",
    "  acc = accuracy_score(y_test, y_pred)\n",
    "  acc_depth.append([acc, i])\n",
    "print(depths)\n",
    "print(acc_depth)"
   ]
  },
  {
   "cell_type": "code",
   "execution_count": null,
   "metadata": {},
   "outputs": [],
   "source": [
    "#Plot the accuracy vs depth\n",
    "plt.plot(depths, [accuracy[0] for accuracy in acc_depth])\n",
    "plt.xlabel('Depth')\n",
    "plt.ylabel('Accuracy')\n",
    "plt.title('Accuracy vs depth')\n",
    "plt.show()\n",
    "plt.clf()"
   ]
  },
  {
   "cell_type": "code",
   "execution_count": null,
   "metadata": {},
   "outputs": [],
   "source": [
    "#Find the largest accuracy and the depth this occurs\n",
    "max_acc = max(acc_depth)\n",
    "print(max_acc)\n",
    "max_depth_list = [elem[1] for elem in acc_depth if elem[0] == max_acc[0]]\n",
    "print(max_depth_list[0])\n",
    "m_depth = max_depth_list[0]\n",
    "m_depth"
   ]
  },
  {
   "cell_type": "code",
   "execution_count": null,
   "metadata": {},
   "outputs": [],
   "source": [
    "#Refit decision tree model with the highest accuracy and plot the decision tree\n",
    "dtm_n = DecisionTreeClassifier(max_depth = m_depth, ccp_alpha=0.01, criterion='gini')\n",
    "dtm_n.fit(x_train, y_train)\n",
    "plt.figure(figsize=[24, 24])\n",
    "tree.plot_tree(dtm_n, feature_names=x_train.columns.to_list(), max_depth=m_depth, label='all', filled=True, rounded=True)\n",
    "plt.tight_layout()\n",
    "plt.show()\n",
    "plt.clf()"
   ]
  },
  {
   "cell_type": "code",
   "execution_count": null,
   "metadata": {},
   "outputs": [],
   "source": [
    "#Create a new list for the accuracy values of a pruned decision tree.  Loop through\n",
    "#the values of ccp and append the scores to the list\n",
    "ccp_alpha_list = np.logspace(-3, 0, num=20)\n",
    "print(ccp_alpha_list)\n",
    "acc_pruned = []\n",
    "for i in ccp_alpha_list:\n",
    "  dtm = DecisionTreeClassifier(random_state=1, max_depth = m_depth, ccp_alpha = i)\n",
    "  dtm.fit(x_train, y_train)\n",
    "  y_pred = dtm.predict(x_test)\n",
    "  acc = accuracy_score(y_test, y_pred)\n",
    "  acc_pruned.append(acc)\n",
    "#print(acc_pruned)"
   ]
  },
  {
   "cell_type": "code",
   "execution_count": null,
   "metadata": {},
   "outputs": [],
   "source": [
    "#Plot the accuracy vs ccp_alpha\n",
    "plt.plot(ccp_alpha_list, acc_pruned)\n",
    "plt.xlabel('CCP')\n",
    "plt.ylabel('Accuracy')\n",
    "plt.title('Accuracy vs ccp')\n",
    "plt.show()\n",
    "plt.clf()"
   ]
  },
  {
   "cell_type": "code",
   "execution_count": null,
   "metadata": {},
   "outputs": [],
   "source": [
    "#Find the largest accuracy and the ccp value this occurs\n",
    "print(acc_pruned)\n",
    "print(np.max(acc_pruned))\n",
    "print(ccp_alpha_list[np.argmax(acc_pruned)])\n",
    "#Fit a decision tree model with the values for max_depth and ccp_alpha found above\n",
    "dtm_best = DecisionTreeClassifier(max_depth = m_depth, ccp_alpha = ccp_alpha_list[np.argmax(acc_pruned)], criterion='gini')\n",
    "dtm_best.fit(x_train, y_train)"
   ]
  },
  {
   "cell_type": "code",
   "execution_count": null,
   "metadata": {},
   "outputs": [],
   "source": [
    "#Plot the final decision tree\n",
    "plt.figure(figsize=[24, 24])\n",
    "tree.plot_tree(dtm_best, feature_names=x_train.columns.to_list(), max_depth=m_depth, label='all', filled=True, rounded=True)\n",
    "plt.tight_layout()\n",
    "plt.show()\n",
    "plt.clf()"
   ]
  }
 ],
 "metadata": {
  "kernelspec": {
   "display_name": "base",
   "language": "python",
   "name": "python3"
  },
  "language_info": {
   "codemirror_mode": {
    "name": "ipython",
    "version": 3
   },
   "file_extension": ".py",
   "mimetype": "text/x-python",
   "name": "python",
   "nbconvert_exporter": "python",
   "pygments_lexer": "ipython3",
   "version": "3.11.4"
  },
  "orig_nbformat": 4
 },
 "nbformat": 4,
 "nbformat_minor": 2
}
