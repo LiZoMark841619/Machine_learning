{
 "cells": [
  {
   "cell_type": "code",
   "execution_count": 93,
   "metadata": {},
   "outputs": [],
   "source": [
    "import seaborn as sns\n",
    "import pandas as pd\n",
    "import numpy as np\n",
    "from sklearn.model_selection import train_test_split\n",
    "from sklearn.metrics import accuracy_score\n",
    "import matplotlib.pyplot as plt\n",
    "from sklearn.tree import DecisionTreeClassifier\n",
    "from sklearn import tree"
   ]
  },
  {
   "cell_type": "code",
   "execution_count": 94,
   "metadata": {},
   "outputs": [],
   "source": [
    "cols = ['name','landmass','zone', 'area', 'population', 'language','religion','bars','stripes','colours',\n",
    "'red','green','blue','gold','white','black','orange','mainhue','circles',\n",
    "'crosses','saltires','quarters','sunstars','crescent','triangle','icon','animate','text','topleft','botright']\n",
    "\n",
    "df= pd.read_csv(\"https://archive.ics.uci.edu/ml/machine-learning-databases/flags/flag.data\", names = cols)\n",
    "\n",
    "#variable names to use as predictors\n",
    "var = [ 'red', 'green', 'blue','gold', 'white', 'black', 'orange', 'mainhue','bars','stripes',\n",
    "'circles','crosses', 'saltires','quarters','sunstars','triangle','animate']"
   ]
  },
  {
   "cell_type": "code",
   "execution_count": 95,
   "metadata": {},
   "outputs": [
    {
     "data": {
      "text/plain": [
       "landmass\n",
       "4    52\n",
       "5    39\n",
       "3    35\n",
       "1    31\n",
       "6    20\n",
       "2    17\n",
       "Name: count, dtype: int64"
      ]
     },
     "execution_count": 95,
     "metadata": {},
     "output_type": "execute_result"
    }
   ],
   "source": [
    "#Print number of countries by landmass, or continent\n",
    "df.landmass.value_counts()"
   ]
  },
  {
   "cell_type": "code",
   "execution_count": 96,
   "metadata": {},
   "outputs": [
    {
     "data": {
      "text/html": [
       "<div>\n",
       "<style scoped>\n",
       "    .dataframe tbody tr th:only-of-type {\n",
       "        vertical-align: middle;\n",
       "    }\n",
       "\n",
       "    .dataframe tbody tr th {\n",
       "        vertical-align: top;\n",
       "    }\n",
       "\n",
       "    .dataframe thead th {\n",
       "        text-align: right;\n",
       "    }\n",
       "</style>\n",
       "<table border=\"1\" class=\"dataframe\">\n",
       "  <thead>\n",
       "    <tr style=\"text-align: right;\">\n",
       "      <th></th>\n",
       "      <th>name</th>\n",
       "      <th>landmass</th>\n",
       "      <th>zone</th>\n",
       "      <th>area</th>\n",
       "      <th>population</th>\n",
       "      <th>language</th>\n",
       "      <th>religion</th>\n",
       "      <th>bars</th>\n",
       "      <th>stripes</th>\n",
       "      <th>colours</th>\n",
       "      <th>...</th>\n",
       "      <th>saltires</th>\n",
       "      <th>quarters</th>\n",
       "      <th>sunstars</th>\n",
       "      <th>crescent</th>\n",
       "      <th>triangle</th>\n",
       "      <th>icon</th>\n",
       "      <th>animate</th>\n",
       "      <th>text</th>\n",
       "      <th>topleft</th>\n",
       "      <th>botright</th>\n",
       "    </tr>\n",
       "  </thead>\n",
       "  <tbody>\n",
       "    <tr>\n",
       "      <th>1</th>\n",
       "      <td>Albania</td>\n",
       "      <td>3</td>\n",
       "      <td>1</td>\n",
       "      <td>29</td>\n",
       "      <td>3</td>\n",
       "      <td>6</td>\n",
       "      <td>6</td>\n",
       "      <td>0</td>\n",
       "      <td>0</td>\n",
       "      <td>3</td>\n",
       "      <td>...</td>\n",
       "      <td>0</td>\n",
       "      <td>0</td>\n",
       "      <td>1</td>\n",
       "      <td>0</td>\n",
       "      <td>0</td>\n",
       "      <td>0</td>\n",
       "      <td>1</td>\n",
       "      <td>0</td>\n",
       "      <td>red</td>\n",
       "      <td>red</td>\n",
       "    </tr>\n",
       "    <tr>\n",
       "      <th>3</th>\n",
       "      <td>American-Samoa</td>\n",
       "      <td>6</td>\n",
       "      <td>3</td>\n",
       "      <td>0</td>\n",
       "      <td>0</td>\n",
       "      <td>1</td>\n",
       "      <td>1</td>\n",
       "      <td>0</td>\n",
       "      <td>0</td>\n",
       "      <td>5</td>\n",
       "      <td>...</td>\n",
       "      <td>0</td>\n",
       "      <td>0</td>\n",
       "      <td>0</td>\n",
       "      <td>0</td>\n",
       "      <td>1</td>\n",
       "      <td>1</td>\n",
       "      <td>1</td>\n",
       "      <td>0</td>\n",
       "      <td>blue</td>\n",
       "      <td>red</td>\n",
       "    </tr>\n",
       "  </tbody>\n",
       "</table>\n",
       "<p>2 rows × 30 columns</p>\n",
       "</div>"
      ],
      "text/plain": [
       "             name  landmass  zone  area  population  language  religion  bars  \\\n",
       "1         Albania         3     1    29           3         6         6     0   \n",
       "3  American-Samoa         6     3     0           0         1         1     0   \n",
       "\n",
       "   stripes  colours  ...  saltires  quarters  sunstars  crescent  triangle  \\\n",
       "1        0        3  ...         0         0         1         0         0   \n",
       "3        0        5  ...         0         0         0         0         1   \n",
       "\n",
       "   icon  animate text  topleft  botright  \n",
       "1     0        1    0      red       red  \n",
       "3     1        1    0     blue       red  \n",
       "\n",
       "[2 rows x 30 columns]"
      ]
     },
     "execution_count": 96,
     "metadata": {},
     "output_type": "execute_result"
    }
   ],
   "source": [
    "#Create a new dataframe with only flags from Europe and Oceania\n",
    "df_36 = df[df['landmass'].isin([3,6])]\n",
    "df_36.head(2)"
   ]
  },
  {
   "cell_type": "code",
   "execution_count": 97,
   "metadata": {},
   "outputs": [
    {
     "data": {
      "text/plain": [
       "1      3\n",
       "3      6\n",
       "4      3\n",
       "10     6\n",
       "11     3\n",
       "16     3\n",
       "26     3\n",
       "41     6\n",
       "44     3\n",
       "45     3\n",
       "46     3\n",
       "55     3\n",
       "57     6\n",
       "58     3\n",
       "59     3\n",
       "61     6\n",
       "64     3\n",
       "65     3\n",
       "67     3\n",
       "68     3\n",
       "71     6\n",
       "79     3\n",
       "80     3\n",
       "82     6\n",
       "85     3\n",
       "87     3\n",
       "94     6\n",
       "101    3\n",
       "102    3\n",
       "108    3\n",
       "109    6\n",
       "113    6\n",
       "114    3\n",
       "119    6\n",
       "121    3\n",
       "123    6\n",
       "127    6\n",
       "130    3\n",
       "134    6\n",
       "137    6\n",
       "138    3\n",
       "139    3\n",
       "142    3\n",
       "144    3\n",
       "151    6\n",
       "156    3\n",
       "165    3\n",
       "166    3\n",
       "172    6\n",
       "177    6\n",
       "180    3\n",
       "185    6\n",
       "186    3\n",
       "189    6\n",
       "190    3\n",
       "Name: landmass, dtype: int64"
      ]
     },
     "execution_count": 97,
     "metadata": {},
     "output_type": "execute_result"
    }
   ],
   "source": [
    "#Create labels for only Europe and Oceania\n",
    "labels = df_36['landmass']\n",
    "labels"
   ]
  },
  {
   "cell_type": "code",
   "execution_count": 98,
   "metadata": {},
   "outputs": [
    {
     "data": {
      "text/plain": [
       "red          int64\n",
       "green        int64\n",
       "blue         int64\n",
       "gold         int64\n",
       "white        int64\n",
       "black        int64\n",
       "orange       int64\n",
       "mainhue     object\n",
       "bars         int64\n",
       "stripes      int64\n",
       "circles      int64\n",
       "crosses      int64\n",
       "saltires     int64\n",
       "quarters     int64\n",
       "sunstars     int64\n",
       "triangle     int64\n",
       "animate      int64\n",
       "dtype: object"
      ]
     },
     "execution_count": 98,
     "metadata": {},
     "output_type": "execute_result"
    }
   ],
   "source": [
    "#Print the variable types for the predictors\n",
    "df_36[var].dtypes"
   ]
  },
  {
   "cell_type": "code",
   "execution_count": 99,
   "metadata": {},
   "outputs": [],
   "source": [
    "#Create dummy variables for categorical predictors\n",
    "data = pd.get_dummies(df_36[var])"
   ]
  },
  {
   "cell_type": "code",
   "execution_count": 100,
   "metadata": {},
   "outputs": [],
   "source": [
    "#Split data into a train and test set\n",
    "x_train, x_test, y_train, y_test = train_test_split(data, labels, test_size=0.20, random_state=80)"
   ]
  },
  {
   "cell_type": "code",
   "execution_count": 101,
   "metadata": {},
   "outputs": [],
   "source": [
    "#Fit a decision tree for max_depth values 1-20; save the accuracy score in acc_depth\n",
    "depths = list(range(1, 21))\n",
    "acc_depth = []\n",
    "for i in depths:\n",
    "  dtm = DecisionTreeClassifier(max_depth = i)\n",
    "  dtm.fit(x_train, y_train)\n",
    "  y_pred = dtm.predict(x_test)\n",
    "  acc = accuracy_score(y_test, y_pred)\n",
    "  acc_depth.append([acc, i])\n",
    "depths, acc_depth"
   ]
  },
  {
   "cell_type": "code",
   "execution_count": null,
   "metadata": {},
   "outputs": [],
   "source": [
    "#Plot the accuracy vs depth\n",
    "plt.plot(depths, [accuracy[0] for accuracy in acc_depth])\n",
    "plt.xlabel('Depth')\n",
    "plt.ylabel('Accuracy')\n",
    "plt.title('Accuracy vs depth')\n",
    "plt.show()\n",
    "plt.clf()"
   ]
  },
  {
   "cell_type": "code",
   "execution_count": null,
   "metadata": {},
   "outputs": [],
   "source": [
    "#Find the largest accuracy and the depth this occurs\n",
    "max_acc = max(acc_depth)\n",
    "max_acc"
   ]
  },
  {
   "cell_type": "code",
   "execution_count": null,
   "metadata": {},
   "outputs": [],
   "source": [
    "max_depth_list = [elem[1] for elem in acc_depth if elem[0] == max_acc[0]]\n",
    "m_depth = max_depth_list[0]\n",
    "m_depth"
   ]
  },
  {
   "cell_type": "code",
   "execution_count": null,
   "metadata": {},
   "outputs": [],
   "source": [
    "#Refit decision tree model with the highest accuracy and plot the decision tree\n",
    "dtm_n = DecisionTreeClassifier(max_depth = m_depth, ccp_alpha=0.01, criterion='gini')\n",
    "dtm_n.fit(x_train, y_train)\n",
    "plt.figure(figsize=[24, 24])\n",
    "tree.plot_tree(dtm_n, feature_names=x_train.columns.to_list(), max_depth=m_depth, label='all', filled=True, rounded=True)\n",
    "plt.tight_layout()\n",
    "plt.show()\n",
    "plt.clf()"
   ]
  },
  {
   "cell_type": "code",
   "execution_count": null,
   "metadata": {},
   "outputs": [],
   "source": [
    "#Create a new list for the accuracy values of a pruned decision tree.  Loop through\n",
    "#the values of ccp and append the scores to the list\n",
    "ccp_alpha_list = np.logspace(-3, 0, num=20)\n",
    "print(ccp_alpha_list)\n",
    "acc_pruned = []\n",
    "for i in ccp_alpha_list:\n",
    "  dtm = DecisionTreeClassifier(random_state=1, max_depth = m_depth, ccp_alpha = i)\n",
    "  dtm.fit(x_train, y_train)\n",
    "  y_pred = dtm.predict(x_test)\n",
    "  acc = accuracy_score(y_test, y_pred)\n",
    "  acc_pruned.append(acc)\n",
    "#print(acc_pruned)"
   ]
  },
  {
   "cell_type": "code",
   "execution_count": null,
   "metadata": {},
   "outputs": [],
   "source": [
    "#Plot the accuracy vs ccp_alpha\n",
    "plt.plot(ccp_alpha_list, acc_pruned)\n",
    "plt.xlabel('CCP')\n",
    "plt.ylabel('Accuracy')\n",
    "plt.title('Accuracy vs ccp')\n",
    "plt.show()\n",
    "plt.clf()"
   ]
  },
  {
   "cell_type": "code",
   "execution_count": null,
   "metadata": {},
   "outputs": [],
   "source": [
    "#Find the largest accuracy and the ccp value this occurs\n",
    "print(acc_pruned)\n",
    "print(np.max(acc_pruned))\n",
    "print(ccp_alpha_list[np.argmax(acc_pruned)])"
   ]
  },
  {
   "cell_type": "code",
   "execution_count": null,
   "metadata": {},
   "outputs": [],
   "source": [
    "#Fit a decision tree model with the values for max_depth and ccp_alpha found above\n",
    "dtm_best = DecisionTreeClassifier(max_depth = m_depth, ccp_alpha = ccp_alpha_list[np.argmax(acc_pruned)], criterion='gini')\n",
    "dtm_best.fit(x_train, y_train)"
   ]
  },
  {
   "cell_type": "code",
   "execution_count": null,
   "metadata": {},
   "outputs": [],
   "source": [
    "#Plot the final decision tree\n",
    "plt.figure(figsize=[24, 24])\n",
    "tree.plot_tree(dtm_best, feature_names=x_train.columns.to_list(), max_depth=m_depth, label='all', filled=True, rounded=True)\n",
    "plt.tight_layout()\n",
    "plt.show()\n",
    "plt.clf()"
   ]
  }
 ],
 "metadata": {
  "kernelspec": {
   "display_name": "base",
   "language": "python",
   "name": "python3"
  },
  "language_info": {
   "codemirror_mode": {
    "name": "ipython",
    "version": 3
   },
   "file_extension": ".py",
   "mimetype": "text/x-python",
   "name": "python",
   "nbconvert_exporter": "python",
   "pygments_lexer": "ipython3",
   "version": "3.11.4"
  },
  "orig_nbformat": 4
 },
 "nbformat": 4,
 "nbformat_minor": 2
}
