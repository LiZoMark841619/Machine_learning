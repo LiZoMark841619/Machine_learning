{
 "cells": [
  {
   "cell_type": "code",
   "execution_count": 133,
   "metadata": {},
   "outputs": [
    {
     "name": "stdout",
     "output_type": "stream",
     "text": [
      "-------------------------------------\n",
      "The following datasets are available:\n",
      "-------------------------------------\n",
      "Dataset Name                                                                            ID    \n",
      "------------                                                                            --    \n",
      "Abalone                                                                                 1     \n",
      "Adult                                                                                   2     \n",
      "Auto MPG                                                                                9     \n",
      "Automobile                                                                              10    \n",
      "Breast Cancer                                                                           14    \n",
      "Breast Cancer Wisconsin (Original)                                                      15    \n",
      "Breast Cancer Wisconsin (Diagnostic)                                                    17    \n",
      "Car Evaluation                                                                          19    \n",
      "Credit Approval                                                                         27    \n",
      "Glass Identification                                                                    42    \n",
      "Heart Disease                                                                           45    \n",
      "Iris                                                                                    53    \n",
      "Liver Disorders                                                                         60    \n",
      "Mushroom                                                                                73    \n",
      "Optical Recognition of Handwritten Digits                                               80    \n",
      "Spambase                                                                                94    \n",
      "Wine                                                                                    109   \n",
      "Zoo                                                                                     111   \n",
      "Statlog (German Credit Data)                                                            144   \n",
      "Wine Quality                                                                            186   \n",
      "Parkinsons Telemonitoring                                                               189   \n",
      "Bank Marketing                                                                          222   \n",
      "ILPD (Indian Liver Patient Dataset)                                                     225   \n",
      "Thoracic Surgery Data                                                                   277   \n",
      "Diabetes 130-US hospitals for years 1999-2008                                           296   \n",
      "Diabetic Retinopathy Debrecen                                                           329   \n",
      "Heart failure clinical records                                                          519   \n",
      "Rice (Cammeo and Osmancik)                                                              545   \n",
      "Bone marrow transplant: children                                                        565   \n",
      "HCV data                                                                                571   \n",
      "Myocardial infarction complications                                                     579   \n",
      "Dry Bean Dataset                                                                        602   \n",
      "Predict students' dropout and academic success                                          697   \n",
      "Glioma Grading Clinical and Mutation Features                                           759   \n",
      "Sepsis Survival Minimal Clinical Records                                                827   \n",
      "Cirrhosis Patient Survival Prediction                                                   878   \n",
      "SUPPORT2                                                                                880   \n",
      "National Health and Nutrition Health Survey 2013-2014 (NHANES) Age Prediction Subset    887   \n",
      "AIDS Clinical Trials Group Study 175                                                    890   \n",
      "CDC Diabetes Health Indicators                                                          891   \n",
      "\n"
     ]
    }
   ],
   "source": [
    "from ucimlrepo import fetch_ucirepo, list_available_datasets\n",
    "import pandas as pd\n",
    "import numpy as np \n",
    "import matplotlib.pyplot as plt \n",
    "import seaborn as sns \n",
    "from sklearn.linear_model import LogisticRegression\n",
    "from sklearn.preprocessing import StandardScaler\n",
    "from sklearn.feature_selection import RFE\n",
    "\n",
    "# check which datasets can be imported\n",
    "list_available_datasets()"
   ]
  },
  {
   "cell_type": "code",
   "execution_count": 134,
   "metadata": {},
   "outputs": [
    {
     "data": {
      "text/plain": [
       "{'data': {'ids': None,\n",
       "  'features':       quality  pre_screening  ma1  ma2  ma3  ma4  ma5  ma6   exudate1  \\\n",
       "  0           1              1   22   22   22   19   18   14  49.895756   \n",
       "  1           1              1   24   24   22   18   16   13  57.709936   \n",
       "  2           1              1   62   60   59   54   47   33  55.831441   \n",
       "  3           1              1   55   53   53   50   43   31  40.467228   \n",
       "  4           1              1   44   44   44   41   39   27  18.026254   \n",
       "  ...       ...            ...  ...  ...  ...  ...  ...  ...        ...   \n",
       "  1146        1              1   34   34   34   33   31   24   6.071765   \n",
       "  1147        1              1   49   49   49   49   45   37  63.197145   \n",
       "  1148        1              0   49   48   48   45   43   33  30.461898   \n",
       "  1149        1              1   39   36   29   23   13    7  40.525739   \n",
       "  1150        1              1    7    7    7    7    7    5  69.423565   \n",
       "  \n",
       "         exudate2   exudate3   exudate3  exudate5  exudate6  exudate7  exudate8  \\\n",
       "  0     17.775994   5.270920   5.270920  0.018632  0.006864  0.003923  0.003923   \n",
       "  1     23.799994   3.325423   3.325423  0.003903  0.003903  0.003903  0.003903   \n",
       "  2     27.993933  12.687485  12.687485  1.393889  0.373252  0.041817  0.007744   \n",
       "  3     18.445954   9.118901   9.118901  0.840261  0.272434  0.007653  0.001531   \n",
       "  4      8.570709   0.410381   0.410381  0.000000  0.000000  0.000000  0.000000   \n",
       "  ...         ...        ...        ...       ...       ...       ...       ...   \n",
       "  1146   0.937472   0.031145   0.031145  0.000000  0.000000  0.000000  0.000000   \n",
       "  1147  27.377668   8.067688   8.067688  0.001552  0.000000  0.000000  0.000000   \n",
       "  1148  13.966980   1.763305   1.763305  0.011221  0.000000  0.000000  0.000000   \n",
       "  1149  12.604947   4.740919   4.740919  0.563518  0.326860  0.239568  0.174584   \n",
       "  1150   7.031843   1.750548   1.750548  0.021180  0.008472  0.000000  0.000000   \n",
       "  \n",
       "        macula_opticdisc_distance  opticdisc_diameter  am_fm_classification  \n",
       "  0                      0.486903            0.100025                     1  \n",
       "  1                      0.520908            0.144414                     0  \n",
       "  2                      0.530904            0.128548                     0  \n",
       "  3                      0.483284            0.114790                     0  \n",
       "  4                      0.475935            0.123572                     0  \n",
       "  ...                         ...                 ...                   ...  \n",
       "  1146                   0.537470            0.116795                     0  \n",
       "  1147                   0.516733            0.124190                     0  \n",
       "  1148                   0.560632            0.129843                     0  \n",
       "  1149                   0.485972            0.106690                     1  \n",
       "  1150                   0.556192            0.088957                     0  \n",
       "  \n",
       "  [1151 rows x 19 columns],\n",
       "  'targets':       Class\n",
       "  0         0\n",
       "  1         0\n",
       "  2         1\n",
       "  3         0\n",
       "  4         1\n",
       "  ...     ...\n",
       "  1146      0\n",
       "  1147      0\n",
       "  1148      0\n",
       "  1149      1\n",
       "  1150      0\n",
       "  \n",
       "  [1151 rows x 1 columns],\n",
       "  'original':       quality  pre_screening  ma1  ma2  ma3  ma4  ma5  ma6   exudate1  \\\n",
       "  0           1              1   22   22   22   19   18   14  49.895756   \n",
       "  1           1              1   24   24   22   18   16   13  57.709936   \n",
       "  2           1              1   62   60   59   54   47   33  55.831441   \n",
       "  3           1              1   55   53   53   50   43   31  40.467228   \n",
       "  4           1              1   44   44   44   41   39   27  18.026254   \n",
       "  ...       ...            ...  ...  ...  ...  ...  ...  ...        ...   \n",
       "  1146        1              1   34   34   34   33   31   24   6.071765   \n",
       "  1147        1              1   49   49   49   49   45   37  63.197145   \n",
       "  1148        1              0   49   48   48   45   43   33  30.461898   \n",
       "  1149        1              1   39   36   29   23   13    7  40.525739   \n",
       "  1150        1              1    7    7    7    7    7    5  69.423565   \n",
       "  \n",
       "         exudate2   exudate3  exudate3.1  exudate5  exudate6  exudate7  \\\n",
       "  0     17.775994   5.270920    0.771761  0.018632  0.006864  0.003923   \n",
       "  1     23.799994   3.325423    0.234185  0.003903  0.003903  0.003903   \n",
       "  2     27.993933  12.687485    4.852282  1.393889  0.373252  0.041817   \n",
       "  3     18.445954   9.118901    3.079428  0.840261  0.272434  0.007653   \n",
       "  4      8.570709   0.410381    0.000000  0.000000  0.000000  0.000000   \n",
       "  ...         ...        ...         ...       ...       ...       ...   \n",
       "  1146   0.937472   0.031145    0.003115  0.000000  0.000000  0.000000   \n",
       "  1147  27.377668   8.067688    0.979548  0.001552  0.000000  0.000000   \n",
       "  1148  13.966980   1.763305    0.137858  0.011221  0.000000  0.000000   \n",
       "  1149  12.604947   4.740919    1.077570  0.563518  0.326860  0.239568   \n",
       "  1150   7.031843   1.750548    0.046597  0.021180  0.008472  0.000000   \n",
       "  \n",
       "        exudate8  macula_opticdisc_distance  opticdisc_diameter  \\\n",
       "  0     0.003923                   0.486903            0.100025   \n",
       "  1     0.003903                   0.520908            0.144414   \n",
       "  2     0.007744                   0.530904            0.128548   \n",
       "  3     0.001531                   0.483284            0.114790   \n",
       "  4     0.000000                   0.475935            0.123572   \n",
       "  ...        ...                        ...                 ...   \n",
       "  1146  0.000000                   0.537470            0.116795   \n",
       "  1147  0.000000                   0.516733            0.124190   \n",
       "  1148  0.000000                   0.560632            0.129843   \n",
       "  1149  0.174584                   0.485972            0.106690   \n",
       "  1150  0.000000                   0.556192            0.088957   \n",
       "  \n",
       "        am_fm_classification  Class  \n",
       "  0                        1      0  \n",
       "  1                        0      0  \n",
       "  2                        0      1  \n",
       "  3                        0      0  \n",
       "  4                        0      1  \n",
       "  ...                    ...    ...  \n",
       "  1146                     0      0  \n",
       "  1147                     0      0  \n",
       "  1148                     0      0  \n",
       "  1149                     1      1  \n",
       "  1150                     0      0  \n",
       "  \n",
       "  [1151 rows x 20 columns],\n",
       "  'headers': Index(['quality', 'pre_screening', 'ma1', 'ma2', 'ma3', 'ma4', 'ma5', 'ma6',\n",
       "         'exudate1', 'exudate2', 'exudate3', 'exudate3.1', 'exudate5',\n",
       "         'exudate6', 'exudate7', 'exudate8', 'macula_opticdisc_distance',\n",
       "         'opticdisc_diameter', 'am_fm_classification', 'Class'],\n",
       "        dtype='object')},\n",
       " 'metadata': {'uci_id': 329,\n",
       "  'name': 'Diabetic Retinopathy Debrecen',\n",
       "  'repository_url': 'https://archive.ics.uci.edu/dataset/329/diabetic+retinopathy+debrecen',\n",
       "  'data_url': 'https://archive.ics.uci.edu/static/public/329/data.csv',\n",
       "  'abstract': 'This dataset contains features extracted from the Messidor image set to predict whether an image contains signs of diabetic retinopathy or not. ',\n",
       "  'area': 'Life Science',\n",
       "  'tasks': ['Classification'],\n",
       "  'characteristics': ['Multivariate'],\n",
       "  'num_instances': 1151,\n",
       "  'num_features': 19,\n",
       "  'feature_types': ['Integer', 'Real'],\n",
       "  'demographics': [],\n",
       "  'target_col': ['Class'],\n",
       "  'index_col': None,\n",
       "  'has_missing_values': 'no',\n",
       "  'missing_values_symbol': None,\n",
       "  'year_of_dataset_creation': 2014,\n",
       "  'last_updated': 'Mon Aug 28 2023',\n",
       "  'dataset_doi': '10.24432/C5XP4P',\n",
       "  'creators': ['Balint Antal', 'Andras Hajdu'],\n",
       "  'intro_paper': {'title': 'An ensemble-based system for automatic screening of diabetic retinopathy',\n",
       "   'authors': 'B. Antal, A. Hajdu',\n",
       "   'published_in': 'Knowledge-Based Systems',\n",
       "   'year': 2014,\n",
       "   'url': 'https://dl.acm.org/doi/abs/10.1016/j.knosys.2013.12.023',\n",
       "   'doi': 'https://doi.org/10.1016/j.knosys.2013.12.023'},\n",
       "  'additional_info': {'summary': 'This dataset contains features extracted from the Messidor image set to predict whether an image contains signs of diabetic retinopathy or not. All features represent either a detected lesion, a descriptive feature of a anatomical part or an image-level descriptor. The underlying method image analysis and feature extraction as well as our classification technique is described in Antal and Hajdu, Knowledge-Based Systems, 2014. \\n\\nThe image set (Messidor) is available at http://messidor.crihan.fr/index-en.php.',\n",
       "   'purpose': None,\n",
       "   'funded_by': None,\n",
       "   'instances_represent': 'Medical patients',\n",
       "   'recommended_data_splits': None,\n",
       "   'sensitive_data': None,\n",
       "   'preprocessing_description': None,\n",
       "   'variable_info': '0) The binary result of quality assessment. 0 = bad quality 1 = sufficient quality.\\r\\n1) The binary result of pre-screening, where 1 indicates severe retinal abnormality and 0 its lack.\\r\\n2-7) The results of MA detection. Each feature value stand for the\\r\\nnumber of MAs found at the confidence levels alpha = 0.5, . . . , 1, respectively.\\r\\n8-15) contain the same information as 2-7) for exudates. However,\\r\\nas exudates are represented by a set of points rather than the number of\\r\\npixels constructing the lesions, these features are normalized by dividing the\\r\\nnumber of lesions with the diameter of the ROI to compensate different image\\r\\nsizes.\\r\\n16) The euclidean distance of the center of\\r\\nthe macula and the center of the optic disc to provide important information\\r\\nregarding the patientâ€™s condition. This feature\\r\\nis also normalized with the diameter of the ROI.\\r\\n17) The diameter of the optic disc.\\r\\n18) The binary result of the AM/FM-based classification.\\r\\n19) Class label. 1 = contains signs of DR (Accumulative label for the Messidor classes 1, 2, 3), 0 = no signs of DR.',\n",
       "   'citation': None}},\n",
       " 'variables':                          name     role        type demographic  \\\n",
       " 0                     quality  Feature      Binary        None   \n",
       " 1               pre_screening  Feature      Binary        None   \n",
       " 2                         ma1  Feature     Integer        None   \n",
       " 3                         ma2  Feature     Integer        None   \n",
       " 4                         ma3  Feature     Integer        None   \n",
       " 5                         ma4  Feature     Integer        None   \n",
       " 6                         ma5  Feature     Integer        None   \n",
       " 7                         ma6  Feature     Integer        None   \n",
       " 8                    exudate1  Feature  Continuous        None   \n",
       " 9                    exudate2  Feature  Continuous        None   \n",
       " 10                   exudate3  Feature  Continuous        None   \n",
       " 11                   exudate3  Feature  Continuous        None   \n",
       " 12                   exudate5  Feature  Continuous        None   \n",
       " 13                   exudate6  Feature  Continuous        None   \n",
       " 14                   exudate7  Feature  Continuous        None   \n",
       " 15                   exudate8  Feature  Continuous        None   \n",
       " 16  macula_opticdisc_distance  Feature  Continuous        None   \n",
       " 17         opticdisc_diameter  Feature  Continuous        None   \n",
       " 18       am_fm_classification  Feature      Binary        None   \n",
       " 19                      Class   Target      Binary        None   \n",
       " \n",
       "                                           description units missing_values  \n",
       " 0   The binary result of quality assessment. 0 = b...  None             no  \n",
       " 1   The binary result of pre-screening, where 1 in...  None             no  \n",
       " 2   ma1 - ma-6 contain the results of MA detection...  None             no  \n",
       " 3                                                None  None             no  \n",
       " 4                                                None  None             no  \n",
       " 5                                                None  None             no  \n",
       " 6                                                None  None             no  \n",
       " 7                                                None  None             no  \n",
       " 8   exudate1 - exudate8 contain the same informati...  None             no  \n",
       " 9                                                None  None             no  \n",
       " 10                                               None  None             no  \n",
       " 11                                               None  None             no  \n",
       " 12                                               None  None             no  \n",
       " 13                                               None  None             no  \n",
       " 14                                               None  None             no  \n",
       " 15                                               None  None             no  \n",
       " 16  The euclidean distance of the center of the ma...  None             no  \n",
       " 17                    The diameter of the optic disc.  None             no  \n",
       " 18  The binary result of the AM/FM-based classific...  None             no  \n",
       " 19  Class label. 1 = contains signs of DR (Accumul...  None             no  }"
      ]
     },
     "execution_count": 134,
     "metadata": {},
     "output_type": "execute_result"
    }
   ],
   "source": [
    "deb_diabet = fetch_ucirepo(id=329)\n",
    "deb_diabet"
   ]
  },
  {
   "cell_type": "code",
   "execution_count": 135,
   "metadata": {},
   "outputs": [],
   "source": [
    "data = pd.read_csv('https://archive.ics.uci.edu/static/public/329/data.csv')"
   ]
  },
  {
   "cell_type": "code",
   "execution_count": 136,
   "metadata": {},
   "outputs": [
    {
     "data": {
      "text/html": [
       "<div>\n",
       "<style scoped>\n",
       "    .dataframe tbody tr th:only-of-type {\n",
       "        vertical-align: middle;\n",
       "    }\n",
       "\n",
       "    .dataframe tbody tr th {\n",
       "        vertical-align: top;\n",
       "    }\n",
       "\n",
       "    .dataframe thead th {\n",
       "        text-align: right;\n",
       "    }\n",
       "</style>\n",
       "<table border=\"1\" class=\"dataframe\">\n",
       "  <thead>\n",
       "    <tr style=\"text-align: right;\">\n",
       "      <th></th>\n",
       "      <th>quality</th>\n",
       "      <th>pre_screening</th>\n",
       "      <th>ma1</th>\n",
       "      <th>ma2</th>\n",
       "      <th>ma3</th>\n",
       "      <th>ma4</th>\n",
       "      <th>ma5</th>\n",
       "      <th>ma6</th>\n",
       "      <th>exudate1</th>\n",
       "      <th>exudate2</th>\n",
       "      <th>exudate3</th>\n",
       "      <th>exudate3.1</th>\n",
       "      <th>exudate5</th>\n",
       "      <th>exudate6</th>\n",
       "      <th>exudate7</th>\n",
       "      <th>exudate8</th>\n",
       "      <th>macula_opticdisc_distance</th>\n",
       "      <th>opticdisc_diameter</th>\n",
       "      <th>am_fm_classification</th>\n",
       "      <th>Class</th>\n",
       "    </tr>\n",
       "  </thead>\n",
       "  <tbody>\n",
       "    <tr>\n",
       "      <th>0</th>\n",
       "      <td>1</td>\n",
       "      <td>1</td>\n",
       "      <td>22</td>\n",
       "      <td>22</td>\n",
       "      <td>22</td>\n",
       "      <td>19</td>\n",
       "      <td>18</td>\n",
       "      <td>14</td>\n",
       "      <td>49.895756</td>\n",
       "      <td>17.775994</td>\n",
       "      <td>5.270920</td>\n",
       "      <td>0.771761</td>\n",
       "      <td>0.018632</td>\n",
       "      <td>0.006864</td>\n",
       "      <td>0.003923</td>\n",
       "      <td>0.003923</td>\n",
       "      <td>0.486903</td>\n",
       "      <td>0.100025</td>\n",
       "      <td>1</td>\n",
       "      <td>0</td>\n",
       "    </tr>\n",
       "    <tr>\n",
       "      <th>1</th>\n",
       "      <td>1</td>\n",
       "      <td>1</td>\n",
       "      <td>24</td>\n",
       "      <td>24</td>\n",
       "      <td>22</td>\n",
       "      <td>18</td>\n",
       "      <td>16</td>\n",
       "      <td>13</td>\n",
       "      <td>57.709936</td>\n",
       "      <td>23.799994</td>\n",
       "      <td>3.325423</td>\n",
       "      <td>0.234185</td>\n",
       "      <td>0.003903</td>\n",
       "      <td>0.003903</td>\n",
       "      <td>0.003903</td>\n",
       "      <td>0.003903</td>\n",
       "      <td>0.520908</td>\n",
       "      <td>0.144414</td>\n",
       "      <td>0</td>\n",
       "      <td>0</td>\n",
       "    </tr>\n",
       "    <tr>\n",
       "      <th>2</th>\n",
       "      <td>1</td>\n",
       "      <td>1</td>\n",
       "      <td>62</td>\n",
       "      <td>60</td>\n",
       "      <td>59</td>\n",
       "      <td>54</td>\n",
       "      <td>47</td>\n",
       "      <td>33</td>\n",
       "      <td>55.831441</td>\n",
       "      <td>27.993933</td>\n",
       "      <td>12.687485</td>\n",
       "      <td>4.852282</td>\n",
       "      <td>1.393889</td>\n",
       "      <td>0.373252</td>\n",
       "      <td>0.041817</td>\n",
       "      <td>0.007744</td>\n",
       "      <td>0.530904</td>\n",
       "      <td>0.128548</td>\n",
       "      <td>0</td>\n",
       "      <td>1</td>\n",
       "    </tr>\n",
       "    <tr>\n",
       "      <th>3</th>\n",
       "      <td>1</td>\n",
       "      <td>1</td>\n",
       "      <td>55</td>\n",
       "      <td>53</td>\n",
       "      <td>53</td>\n",
       "      <td>50</td>\n",
       "      <td>43</td>\n",
       "      <td>31</td>\n",
       "      <td>40.467228</td>\n",
       "      <td>18.445954</td>\n",
       "      <td>9.118901</td>\n",
       "      <td>3.079428</td>\n",
       "      <td>0.840261</td>\n",
       "      <td>0.272434</td>\n",
       "      <td>0.007653</td>\n",
       "      <td>0.001531</td>\n",
       "      <td>0.483284</td>\n",
       "      <td>0.114790</td>\n",
       "      <td>0</td>\n",
       "      <td>0</td>\n",
       "    </tr>\n",
       "    <tr>\n",
       "      <th>4</th>\n",
       "      <td>1</td>\n",
       "      <td>1</td>\n",
       "      <td>44</td>\n",
       "      <td>44</td>\n",
       "      <td>44</td>\n",
       "      <td>41</td>\n",
       "      <td>39</td>\n",
       "      <td>27</td>\n",
       "      <td>18.026254</td>\n",
       "      <td>8.570709</td>\n",
       "      <td>0.410381</td>\n",
       "      <td>0.000000</td>\n",
       "      <td>0.000000</td>\n",
       "      <td>0.000000</td>\n",
       "      <td>0.000000</td>\n",
       "      <td>0.000000</td>\n",
       "      <td>0.475935</td>\n",
       "      <td>0.123572</td>\n",
       "      <td>0</td>\n",
       "      <td>1</td>\n",
       "    </tr>\n",
       "  </tbody>\n",
       "</table>\n",
       "</div>"
      ],
      "text/plain": [
       "   quality  pre_screening  ma1  ma2  ma3  ma4  ma5  ma6   exudate1   exudate2  \\\n",
       "0        1              1   22   22   22   19   18   14  49.895756  17.775994   \n",
       "1        1              1   24   24   22   18   16   13  57.709936  23.799994   \n",
       "2        1              1   62   60   59   54   47   33  55.831441  27.993933   \n",
       "3        1              1   55   53   53   50   43   31  40.467228  18.445954   \n",
       "4        1              1   44   44   44   41   39   27  18.026254   8.570709   \n",
       "\n",
       "    exudate3  exudate3.1  exudate5  exudate6  exudate7  exudate8  \\\n",
       "0   5.270920    0.771761  0.018632  0.006864  0.003923  0.003923   \n",
       "1   3.325423    0.234185  0.003903  0.003903  0.003903  0.003903   \n",
       "2  12.687485    4.852282  1.393889  0.373252  0.041817  0.007744   \n",
       "3   9.118901    3.079428  0.840261  0.272434  0.007653  0.001531   \n",
       "4   0.410381    0.000000  0.000000  0.000000  0.000000  0.000000   \n",
       "\n",
       "   macula_opticdisc_distance  opticdisc_diameter  am_fm_classification  Class  \n",
       "0                   0.486903            0.100025                     1      0  \n",
       "1                   0.520908            0.144414                     0      0  \n",
       "2                   0.530904            0.128548                     0      1  \n",
       "3                   0.483284            0.114790                     0      0  \n",
       "4                   0.475935            0.123572                     0      1  "
      ]
     },
     "execution_count": 136,
     "metadata": {},
     "output_type": "execute_result"
    }
   ],
   "source": [
    "data.head()"
   ]
  },
  {
   "cell_type": "code",
   "execution_count": 137,
   "metadata": {},
   "outputs": [
    {
     "data": {
      "text/plain": [
       "quality                        int64\n",
       "pre_screening                  int64\n",
       "ma1                            int64\n",
       "ma2                            int64\n",
       "ma3                            int64\n",
       "ma4                            int64\n",
       "ma5                            int64\n",
       "ma6                            int64\n",
       "exudate1                     float64\n",
       "exudate2                     float64\n",
       "exudate3                     float64\n",
       "exudate3.1                   float64\n",
       "exudate5                     float64\n",
       "exudate6                     float64\n",
       "exudate7                     float64\n",
       "exudate8                     float64\n",
       "macula_opticdisc_distance    float64\n",
       "opticdisc_diameter           float64\n",
       "am_fm_classification           int64\n",
       "Class                          int64\n",
       "dtype: object"
      ]
     },
     "execution_count": 137,
     "metadata": {},
     "output_type": "execute_result"
    }
   ],
   "source": [
    "data.dtypes"
   ]
  },
  {
   "cell_type": "code",
   "execution_count": 138,
   "metadata": {},
   "outputs": [],
   "source": [
    "X = data.iloc[:,:-1]\n",
    "y = data.iloc[:,-1]"
   ]
  },
  {
   "cell_type": "code",
   "execution_count": 139,
   "metadata": {},
   "outputs": [],
   "source": [
    "columns = list(X.columns)"
   ]
  },
  {
   "cell_type": "code",
   "execution_count": 140,
   "metadata": {},
   "outputs": [],
   "source": [
    "X = StandardScaler().fit_transform(X)"
   ]
  },
  {
   "cell_type": "code",
   "execution_count": 141,
   "metadata": {},
   "outputs": [],
   "source": [
    "lr = LogisticRegression(max_iter=1000)\n",
    "rfe = RFE(estimator=lr, n_features_to_select=3)"
   ]
  },
  {
   "cell_type": "code",
   "execution_count": 142,
   "metadata": {},
   "outputs": [
    {
     "data": {
      "text/plain": [
       "array([[-0.6414863 , -0.57646257, -0.63002889],\n",
       "       [-0.56339113, -0.57646257, -0.6774097 ],\n",
       "       [ 0.92041699,  1.04666546,  1.02829936],\n",
       "       ...,\n",
       "       [ 0.41279842,  0.56411388,  0.60187209],\n",
       "       [ 0.0223226 , -0.26938429, -0.44050566],\n",
       "       [-1.22720003, -1.23448744, -1.19859857]])"
      ]
     },
     "execution_count": 142,
     "metadata": {},
     "output_type": "execute_result"
    }
   ],
   "source": [
    "rfe.fit_transform(X, y)"
   ]
  },
  {
   "cell_type": "code",
   "execution_count": 143,
   "metadata": {},
   "outputs": [
    {
     "data": {
      "text/plain": [
       "array([12, 13,  1,  4,  1,  1,  3,  7, 10, 11, 14,  9,  8,  6,  2,  5, 17,\n",
       "       15, 16])"
      ]
     },
     "execution_count": 143,
     "metadata": {},
     "output_type": "execute_result"
    }
   ],
   "source": [
    "rfe.ranking_"
   ]
  },
  {
   "cell_type": "code",
   "execution_count": 144,
   "metadata": {},
   "outputs": [
    {
     "data": {
      "text/plain": [
       "array([False, False,  True, False,  True,  True, False, False, False,\n",
       "       False, False, False, False, False, False, False, False, False,\n",
       "       False])"
      ]
     },
     "execution_count": 144,
     "metadata": {},
     "output_type": "execute_result"
    }
   ],
   "source": [
    "rfe.support_"
   ]
  },
  {
   "cell_type": "code",
   "execution_count": 145,
   "metadata": {},
   "outputs": [],
   "source": [
    "features = [f for (f, support) in zip(columns, rfe.support_) if support]"
   ]
  },
  {
   "cell_type": "code",
   "execution_count": 146,
   "metadata": {},
   "outputs": [
    {
     "data": {
      "text/plain": [
       "['ma1', 'ma3', 'ma4']"
      ]
     },
     "execution_count": 146,
     "metadata": {},
     "output_type": "execute_result"
    }
   ],
   "source": [
    "features"
   ]
  },
  {
   "cell_type": "code",
   "execution_count": 147,
   "metadata": {},
   "outputs": [
    {
     "data": {
      "text/plain": [
       "0.7167680278019114"
      ]
     },
     "execution_count": 147,
     "metadata": {},
     "output_type": "execute_result"
    }
   ],
   "source": [
    "rfe.score(X, y)"
   ]
  },
  {
   "cell_type": "code",
   "execution_count": 148,
   "metadata": {},
   "outputs": [],
   "source": [
    "corr_matrix = data[features].corr()"
   ]
  },
  {
   "cell_type": "code",
   "execution_count": 149,
   "metadata": {},
   "outputs": [
    {
     "data": {
      "image/png": "[encoded data removed]",
      "text/plain": [
       "<Figure size 900x900 with 2 Axes>"
      ]
     },
     "metadata": {},
     "output_type": "display_data"
    },
    {
     "data": {
      "text/plain": [
       "<Figure size 640x480 with 0 Axes>"
      ]
     },
     "metadata": {},
     "output_type": "display_data"
    }
   ],
   "source": [
    "plt.figure(figsize=[9, 9])\n",
    "sns.heatmap(corr_matrix, annot=True, cmap='coolwarm', linecolor='white', linewidths=2)\n",
    "plt.title('Heatmap')\n",
    "plt.show()\n",
    "plt.clf()"
   ]
  },
  {
   "cell_type": "code",
   "execution_count": null,
   "metadata": {},
   "outputs": [],
   "source": []
  }
 ],
 "metadata": {
  "kernelspec": {
   "display_name": "base",
   "language": "python",
   "name": "python3"
  },
  "language_info": {
   "codemirror_mode": {
    "name": "ipython",
    "version": 3
   },
   "file_extension": ".py",
   "mimetype": "text/x-python",
   "name": "python",
   "nbconvert_exporter": "python",
   "pygments_lexer": "ipython3",
   "version": "3.11.4"
  },
  "orig_nbformat": 4
 },
 "nbformat": 4,
 "nbformat_minor": 2
}
