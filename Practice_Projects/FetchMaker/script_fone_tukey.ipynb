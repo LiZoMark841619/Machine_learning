{
 "cells": [
  {
   "cell_type": "code",
   "execution_count": 6,
   "metadata": {},
   "outputs": [],
   "source": [
    "import seaborn as sns\n",
    "import matplotlib.pyplot as plt\n",
    "import numpy as np\n",
    "import pandas as pd\n",
    "from scipy import stats\n",
    "from statsmodels.stats.multicomp import pairwise_tukeyhsd\n",
    "import warnings"
   ]
  },
  {
   "cell_type": "markdown",
   "metadata": {},
   "source": [
    "Congratulations! You’ve just started working at the hottest new tech startup, FetchMaker. FetchMaker’s mission is to match up prospective dog owners with their perfect pet. FetchMaker has been collecting data on their adoptable dogs, and it’s your job to analyze some of that data."
   ]
  },
  {
   "cell_type": "markdown",
   "metadata": {},
   "source": [
    "1.\n",
    "FetchMaker has provided us with data for a sample of dogs from their app, including the following attributes:\n",
    "\n",
    "weight, an integer representing how heavy a dog is in pounds\n",
    "tail_length, a float representing tail length in inches\n",
    "age, in years\n",
    "color, a String such as \"brown\" or \"grey\"\n",
    "is_rescue, a boolean 0 or 1\n",
    "The data has been saved for you as a pandas DataFrame named dogs. Use the .head() method to inspect the first five rows of the dataset."
   ]
  },
  {
   "cell_type": "code",
   "execution_count": 2,
   "metadata": {},
   "outputs": [
    {
     "name": "stdout",
     "output_type": "stream",
     "text": [
      "   is_rescue  weight  tail_length  age  color  likes_children  \\\n",
      "0          0       6         2.25    2  black               1   \n",
      "1          0       4         5.36    4  black               0   \n",
      "2          0       7         3.63    3  black               0   \n",
      "3          0       5         0.19    2  black               0   \n",
      "4          0       5         0.37    1  black               1   \n",
      "\n",
      "   is_hypoallergenic      name      breed  \n",
      "0                  0      Huey  chihuahua  \n",
      "1                  0   Cherish  chihuahua  \n",
      "2                  1     Becka  chihuahua  \n",
      "3                  0     Addie  chihuahua  \n",
      "4                  1  Beverlee  chihuahua  \n"
     ]
    }
   ],
   "source": [
    "# Import data\n",
    "dogs = pd.read_csv('dog_data.csv')\n",
    "\n",
    "# Subset to just whippets, terriers, and pitbulls\n",
    "dogs_wtp = dogs[dogs.breed.isin(['whippet', 'terrier', 'pitbull'])]\n",
    "\n",
    "# Subset to just poodles and shihtzus\n",
    "dogs_ps = dogs[dogs.breed.isin(['poodle', 'shihtzu'])]\n",
    "print(dogs.head())"
   ]
  },
  {
   "cell_type": "markdown",
   "metadata": {},
   "source": [
    "2.\n",
    "FetchMaker estimates (based on historical data for all dogs) that 8% of dogs in their system are rescues.\n",
    "They would like to know if whippets are significantly more or less likely than other dogs to be a rescue.\n",
    "Store the is_rescue values for 'whippet's in a variable called whippet_rescue.\n",
    "\n",
    "3.\n",
    "How many whippets are rescues (remember that the value of is_rescue is 1 for rescues and 0 otherwise)? Save this number as num_whippet_rescues and print it out.\n",
    "\n",
    "4.\n",
    "How many whippets are in this sample of data in total? Save this number as num_whippets and print it out."
   ]
  },
  {
   "cell_type": "code",
   "execution_count": 4,
   "metadata": {},
   "outputs": [
    {
     "name": "stdout",
     "output_type": "stream",
     "text": [
      "The total number of whippets in the sample is 100.\n",
      "The number of rescues among the whippets is 6.\n"
     ]
    }
   ],
   "source": [
    "whippet_rescue = dogs.is_rescue[dogs.breed == 'whippet']\n",
    "num_whippet_rescues = np.sum(whippet_rescue==1)\n",
    "num_whippets = len(whippet_rescue)\n",
    "print(f'The total number of whippets in the sample is {num_whippets}.\\nThe number of rescues among the whippets is {num_whippet_rescues}.')"
   ]
  },
  {
   "cell_type": "markdown",
   "metadata": {},
   "source": [
    "5.\n",
    "Use a hypothesis test to test the following null and alternative hypotheses:\n",
    "\n",
    "Null: 8% of whippets are rescues\n",
    "\n",
    "Alternative: more or less than 8% of whippets are rescues\n",
    "\n",
    "Save the p-value from this test as pval and print it out. Using a significance threshold of 0.05, Is the proportion of whippets who are rescues significantly different from 8%?"
   ]
  },
  {
   "cell_type": "code",
   "execution_count": 7,
   "metadata": {},
   "outputs": [],
   "source": [
    "warnings.filterwarnings('ignore')"
   ]
  },
  {
   "cell_type": "code",
   "execution_count": 8,
   "metadata": {},
   "outputs": [
    {
     "name": "stdout",
     "output_type": "stream",
     "text": [
      "Pval is 0.5811780106238109.\n",
      "\n",
      "This is higher than the significant threshold, meaning the Null Hypothesis is true, so there is no significant difference between the observerd\n",
      "6% and the 8%.\n"
     ]
    }
   ],
   "source": [
    "pval = stats.binom_test(x=num_whippet_rescues, n=num_whippets, p=0.08)\n",
    "print(f'Pval is {pval}.\\n')\n",
    "sig_thres = 0.05\n",
    "if pval < sig_thres:\n",
    "    print('''This is lower than the significant threshold, meaning the Null is rejected and there is sigficant difference between the observerd and the\n",
    "hypothesised percentages.''')\n",
    "else:\n",
    "  print('''This is higher than the significant threshold, meaning the Null Hypothesis is true, so there is no significant difference between the observerd\n",
    "6% and the 8%.''')"
   ]
  },
  {
   "cell_type": "markdown",
   "metadata": {},
   "source": [
    "6.\n",
    "Three of FetchMaker’s most popular mid-sized dog breeds are 'whippet's, 'terrier's, and 'pitbull's. Is there a significant difference in the average weights of these three dog breeds?\n",
    "\n",
    "To start answering this question, save the weights of each of these breeds in three separate series named wt_whippets, wt_terriers, and wt_pitbulls, respectively.\n",
    "\n",
    "\n",
    "7.\n",
    "Run a single hypothesis test to address the following null and alternative hypotheses:\n",
    "\n",
    "Null: whippets, terriers, and pitbulls all weigh the same amount on average\n",
    "Alternative: whippets, terriers, and pitbulls do not all weigh the same amount on average (at least one pair of breeds has differing average weights)\n",
    "Save the resulting p-value as pval and print it out. Using a significance threshold of 0.05, is there at least one pair of dog breeds that have significantly different average weights?"
   ]
  },
  {
   "cell_type": "code",
   "execution_count": 10,
   "metadata": {},
   "outputs": [
    {
     "name": "stdout",
     "output_type": "stream",
     "text": [
      "3.276415588274726e-17\n"
     ]
    }
   ],
   "source": [
    "wt_whippets = dogs.weight[dogs.breed == 'whippet']\n",
    "wt_terriers = dogs.weight[dogs.breed == 'terrier']\n",
    "wt_pitbulls = dogs.weight[dogs.breed == 'pitbull']\n",
    "\n",
    "fstat, pval = stats.f_oneway(wt_whippets, wt_terriers, wt_pitbulls)\n",
    "print(pval)"
   ]
  },
  {
   "cell_type": "markdown",
   "metadata": {},
   "source": [
    "8.\n",
    "If you completed the previous step correctly, you should have concluded that at least one pair of dog breeds have significantly different average weights.\n",
    "\n",
    "Run another hypothesis test to determine which of those breeds (whippets, terriers, and pitbulls) weigh different amounts on average. Use an overall type I error rate of 0.05 for all three comparisons. Note that we’ve already provided you with code in script.py to subset the data to just these breeds and have saved this subset as dogs_wtp using the following code:\n",
    "\n",
    "dogs_wtp = dogs[dogs.breed.isin(['whippet', 'terrier', 'pitbull'])]\n",
    "\n",
    "This should make it easier for you to run the test you need!\n",
    "\n",
    "Print out the results. Which pairs of dog breeds weigh different amounts?"
   ]
  },
  {
   "cell_type": "code",
   "execution_count": 11,
   "metadata": {},
   "outputs": [
    {
     "name": "stdout",
     "output_type": "stream",
     "text": [
      "  Multiple Comparison of Means - Tukey HSD, FWER=0.05  \n",
      "=======================================================\n",
      " group1  group2 meandiff p-adj   lower    upper  reject\n",
      "-------------------------------------------------------\n",
      "pitbull terrier   -13.24    0.0 -16.7278 -9.7522   True\n",
      "pitbull whippet    -3.34 0.0638  -6.8278  0.1478  False\n",
      "terrier whippet      9.9    0.0   6.4122 13.3878   True\n",
      "-------------------------------------------------------\n",
      "1. Pitbull-terrier and 2. terrier-whippet pairs has differences in weight.\n"
     ]
    }
   ],
   "source": [
    "result = pairwise_tukeyhsd(dogs_wtp.weight, dogs_wtp.breed, 0.05)\n",
    "print(result)\n",
    "print('1. Pitbull-terrier and 2. terrier-whippet pairs has differences in weight.')"
   ]
  },
  {
   "cell_type": "code",
   "execution_count": 12,
   "metadata": {},
   "outputs": [
    {
     "data": {
      "image/png": "[encoded data removed]",
      "text/plain": [
       "<Figure size 640x480 with 1 Axes>"
      ]
     },
     "metadata": {},
     "output_type": "display_data"
    },
    {
     "data": {
      "text/plain": [
       "<Figure size 640x480 with 0 Axes>"
      ]
     },
     "metadata": {},
     "output_type": "display_data"
    }
   ],
   "source": [
    "sns.boxplot(x='breed', y='weight', data=dogs_wtp, palette='Set1')\n",
    "plt.title('Association between the weight and 3 breeds')\n",
    "plt.show()\n",
    "plt.clf()"
   ]
  },
  {
   "cell_type": "markdown",
   "metadata": {},
   "source": [
    "9.\n",
    "FetchMaker wants to know if 'poodle's and 'shihtzu's come in different colors. Note that we’ve already provided you with code in script.py to subset the data to just these breeds and have saved this subset as dogs_ps using the following code:\n",
    "dogs_ps = dogs[dogs.breed.isin(['poodle', 'shihtzu'])]\n",
    "This should make it easier for you to investigate this question!\n",
    "To start, use the subsetted data to create a contingency table of dog colors by breed (poodle vs. shihtzu). Save the table as Xtab and print it out.\n",
    "\n",
    "\n",
    "10.\n",
    "Run a hypothesis test for the following null and alternative hypotheses:\n",
    "\n",
    "Null: There is an association between breed (poodle vs. shihtzu) and color.\n",
    "\n",
    "Alternative: There is not an association between breed (poodle vs. shihtzu) and color.\n",
    "\n",
    "Save the p-value as pval and print it out. Do poodles and shihtzus come in significantly different color combinations? Use a significance threshold of 0.05."
   ]
  },
  {
   "cell_type": "code",
   "execution_count": 13,
   "metadata": {},
   "outputs": [
    {
     "name": "stdout",
     "output_type": "stream",
     "text": [
      "breed  poodle  shihtzu\n",
      "color                 \n",
      "black      17       10\n",
      "brown      13       36\n",
      "gold        8        6\n",
      "grey       52       41\n",
      "white      10        7 \n",
      "\n",
      "The pval is 0.005302408293244593 which is lower than the significance threshold, meaning that the Null hypothesis is not true and rejected. This also means that there is no association between the colors and the breeds\n"
     ]
    }
   ],
   "source": [
    "Xtab = pd.crosstab(dogs_ps.color, dogs_ps.breed)\n",
    "print(Xtab,'\\n')\n",
    "sig_thres = 0.05\n",
    "stat, pval_ch, dof, expected = stats.chi2_contingency(Xtab)\n",
    "if pval_ch < sig_thres:\n",
    "  print(f'The pval is {pval_ch} which is lower than the significance threshold, meaning that the Null hypothesis is not true and rejected. This also means that there is no association between the colors and the breeds')\n",
    "else:\n",
    "  print('The Null hypothesis is true, meaning there is an association between the colors and the breeds.')"
   ]
  },
  {
   "cell_type": "markdown",
   "metadata": {},
   "source": [
    "Good learner! Have a treat!\n",
    "11.\n",
    "Great job!\n",
    "\n",
    "Feel free to play around with the FetchMaker data some more and run some hypothesis tests of your own.\n",
    "\n",
    "The breeds you can explore are \"poodle\", \"rottweiler\", \"whippet\", \"greyhound\", \"terrier\", \"chihuahua\", \"shihtzu\", and \"pitbull\".\n",
    "\n",
    "Extra challenge: Remind yourself of your data visualization skills and your ability to describe the central tendency of the data. For example, a boxplot visualization can add a lot to your understanding of an ANOVA result."
   ]
  },
  {
   "cell_type": "markdown",
   "metadata": {},
   "source": []
  },
  {
   "cell_type": "code",
   "execution_count": 14,
   "metadata": {},
   "outputs": [
    {
     "data": {
      "text/html": [
       "<div>\n",
       "<style scoped>\n",
       "    .dataframe tbody tr th:only-of-type {\n",
       "        vertical-align: middle;\n",
       "    }\n",
       "\n",
       "    .dataframe tbody tr th {\n",
       "        vertical-align: top;\n",
       "    }\n",
       "\n",
       "    .dataframe thead th {\n",
       "        text-align: right;\n",
       "    }\n",
       "</style>\n",
       "<table border=\"1\" class=\"dataframe\">\n",
       "  <thead>\n",
       "    <tr style=\"text-align: right;\">\n",
       "      <th></th>\n",
       "      <th>is_rescue</th>\n",
       "      <th>weight</th>\n",
       "      <th>tail_length</th>\n",
       "      <th>age</th>\n",
       "      <th>color</th>\n",
       "      <th>likes_children</th>\n",
       "      <th>is_hypoallergenic</th>\n",
       "      <th>name</th>\n",
       "      <th>breed</th>\n",
       "    </tr>\n",
       "  </thead>\n",
       "  <tbody>\n",
       "    <tr>\n",
       "      <th>0</th>\n",
       "      <td>0</td>\n",
       "      <td>6</td>\n",
       "      <td>2.25</td>\n",
       "      <td>2</td>\n",
       "      <td>black</td>\n",
       "      <td>1</td>\n",
       "      <td>0</td>\n",
       "      <td>Huey</td>\n",
       "      <td>chihuahua</td>\n",
       "    </tr>\n",
       "    <tr>\n",
       "      <th>1</th>\n",
       "      <td>0</td>\n",
       "      <td>4</td>\n",
       "      <td>5.36</td>\n",
       "      <td>4</td>\n",
       "      <td>black</td>\n",
       "      <td>0</td>\n",
       "      <td>0</td>\n",
       "      <td>Cherish</td>\n",
       "      <td>chihuahua</td>\n",
       "    </tr>\n",
       "    <tr>\n",
       "      <th>2</th>\n",
       "      <td>0</td>\n",
       "      <td>7</td>\n",
       "      <td>3.63</td>\n",
       "      <td>3</td>\n",
       "      <td>black</td>\n",
       "      <td>0</td>\n",
       "      <td>1</td>\n",
       "      <td>Becka</td>\n",
       "      <td>chihuahua</td>\n",
       "    </tr>\n",
       "    <tr>\n",
       "      <th>3</th>\n",
       "      <td>0</td>\n",
       "      <td>5</td>\n",
       "      <td>0.19</td>\n",
       "      <td>2</td>\n",
       "      <td>black</td>\n",
       "      <td>0</td>\n",
       "      <td>0</td>\n",
       "      <td>Addie</td>\n",
       "      <td>chihuahua</td>\n",
       "    </tr>\n",
       "    <tr>\n",
       "      <th>4</th>\n",
       "      <td>0</td>\n",
       "      <td>5</td>\n",
       "      <td>0.37</td>\n",
       "      <td>1</td>\n",
       "      <td>black</td>\n",
       "      <td>1</td>\n",
       "      <td>1</td>\n",
       "      <td>Beverlee</td>\n",
       "      <td>chihuahua</td>\n",
       "    </tr>\n",
       "  </tbody>\n",
       "</table>\n",
       "</div>"
      ],
      "text/plain": [
       "   is_rescue  weight  tail_length  age  color  likes_children  \\\n",
       "0          0       6         2.25    2  black               1   \n",
       "1          0       4         5.36    4  black               0   \n",
       "2          0       7         3.63    3  black               0   \n",
       "3          0       5         0.19    2  black               0   \n",
       "4          0       5         0.37    1  black               1   \n",
       "\n",
       "   is_hypoallergenic      name      breed  \n",
       "0                  0      Huey  chihuahua  \n",
       "1                  0   Cherish  chihuahua  \n",
       "2                  1     Becka  chihuahua  \n",
       "3                  0     Addie  chihuahua  \n",
       "4                  1  Beverlee  chihuahua  "
      ]
     },
     "execution_count": 14,
     "metadata": {},
     "output_type": "execute_result"
    }
   ],
   "source": [
    "dogs.head()"
   ]
  },
  {
   "cell_type": "code",
   "execution_count": 15,
   "metadata": {},
   "outputs": [
    {
     "data": {
      "text/plain": [
       "array(['chihuahua', 'greyhound', 'pitbull', 'poodle', 'rottweiler',\n",
       "       'shihtzu', 'terrier', 'whippet'], dtype=object)"
      ]
     },
     "execution_count": 15,
     "metadata": {},
     "output_type": "execute_result"
    }
   ],
   "source": [
    "dogs.breed.unique()"
   ]
  },
  {
   "cell_type": "code",
   "execution_count": 16,
   "metadata": {},
   "outputs": [],
   "source": [
    "tail_grey = dogs.tail_length[dogs.breed == 'greyhound']\n",
    "tail_rott = dogs.tail_length[dogs.breed == 'rottweiler']\n",
    "tail_chi = dogs.tail_length[dogs.breed == 'chihuahua']"
   ]
  },
  {
   "cell_type": "code",
   "execution_count": 17,
   "metadata": {},
   "outputs": [
    {
     "name": "stdout",
     "output_type": "stream",
     "text": [
      "2.3561081117217265e-121\n"
     ]
    }
   ],
   "source": [
    "fstat, pval_tail = stats.f_oneway(tail_grey, tail_rott, tail_chi)\n",
    "print(pval_tail)"
   ]
  },
  {
   "cell_type": "code",
   "execution_count": 18,
   "metadata": {},
   "outputs": [],
   "source": [
    "dogs_grerotchi = dogs[dogs.breed.isin(['greyhound', 'rottweiler', 'chihuahua'])]"
   ]
  },
  {
   "cell_type": "code",
   "execution_count": 19,
   "metadata": {},
   "outputs": [],
   "source": [
    "result = pairwise_tukeyhsd(dogs_grerotchi.tail_length, dogs_grerotchi.breed, 0.05)"
   ]
  },
  {
   "cell_type": "code",
   "execution_count": 20,
   "metadata": {},
   "outputs": [
    {
     "name": "stdout",
     "output_type": "stream",
     "text": [
      "     Multiple Comparison of Means - Tukey HSD, FWER=0.05     \n",
      "=============================================================\n",
      "  group1    group2   meandiff p-adj   lower    upper   reject\n",
      "-------------------------------------------------------------\n",
      "chihuahua  greyhound  14.9272    0.0  13.9586  15.8958   True\n",
      "chihuahua rottweiler   1.1623 0.0139   0.1937   2.1309   True\n",
      "greyhound rottweiler -13.7649    0.0 -14.7335 -12.7963   True\n",
      "-------------------------------------------------------------\n"
     ]
    }
   ],
   "source": [
    "print(result)"
   ]
  },
  {
   "cell_type": "code",
   "execution_count": 21,
   "metadata": {},
   "outputs": [
    {
     "data": {
      "image/png": "[encoded data removed]",
      "text/plain": [
       "<Figure size 640x480 with 1 Axes>"
      ]
     },
     "metadata": {},
     "output_type": "display_data"
    },
    {
     "data": {
      "text/plain": [
       "<Figure size 640x480 with 0 Axes>"
      ]
     },
     "metadata": {},
     "output_type": "display_data"
    }
   ],
   "source": [
    "sns.boxplot(x='breed', y='tail_length', data=dogs_grerotchi, palette='Set1')\n",
    "plt.title('Association of tail length and 3 breeds')\n",
    "plt.show()\n",
    "plt.clf()"
   ]
  }
 ],
 "metadata": {
  "kernelspec": {
   "display_name": "Python 3",
   "language": "python",
   "name": "python3"
  },
  "language_info": {
   "codemirror_mode": {
    "name": "ipython",
    "version": 3
   },
   "file_extension": ".py",
   "mimetype": "text/x-python",
   "name": "python",
   "nbconvert_exporter": "python",
   "pygments_lexer": "ipython3",
   "version": "3.11.4"
  },
  "orig_nbformat": 4
 },
 "nbformat": 4,
 "nbformat_minor": 2
}
