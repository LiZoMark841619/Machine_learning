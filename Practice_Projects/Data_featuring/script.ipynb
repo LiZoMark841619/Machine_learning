{
 "cells": [
  {
   "cell_type": "code",
   "execution_count": 12,
   "metadata": {},
   "outputs": [],
   "source": [
    "import pandas as pd\n",
    "import numpy as np\n",
    "from sklearn.preprocessing import StandardScaler"
   ]
  },
  {
   "cell_type": "code",
   "execution_count": 13,
   "metadata": {},
   "outputs": [
    {
     "name": "stdout",
     "output_type": "stream",
     "text": [
      "Index(['clothing_id', 'age', 'review_title', 'review_text', 'recommended',\n",
      "       'division_name', 'department_name', 'review_date', 'rating'],\n",
      "      dtype='object')\n"
     ]
    }
   ],
   "source": [
    "#import data\n",
    "reviews = pd.read_csv('reviews.csv')\n",
    " \n",
    "#print column names\n",
    "print(reviews.columns)"
   ]
  },
  {
   "cell_type": "code",
   "execution_count": 14,
   "metadata": {},
   "outputs": [
    {
     "name": "stdout",
     "output_type": "stream",
     "text": [
      "<class 'pandas.core.frame.DataFrame'>\n",
      "RangeIndex: 5000 entries, 0 to 4999\n",
      "Data columns (total 9 columns):\n",
      " #   Column           Non-Null Count  Dtype \n",
      "---  ------           --------------  ----- \n",
      " 0   clothing_id      5000 non-null   int64 \n",
      " 1   age              5000 non-null   int64 \n",
      " 2   review_title     4174 non-null   object\n",
      " 3   review_text      4804 non-null   object\n",
      " 4   recommended      5000 non-null   bool  \n",
      " 5   division_name    4996 non-null   object\n",
      " 6   department_name  4996 non-null   object\n",
      " 7   review_date      5000 non-null   object\n",
      " 8   rating           5000 non-null   object\n",
      "dtypes: bool(1), int64(2), object(6)\n",
      "memory usage: 317.5+ KB\n",
      "None\n"
     ]
    }
   ],
   "source": [
    "#print .info\n",
    "print(reviews.info())"
   ]
  },
  {
   "cell_type": "code",
   "execution_count": 15,
   "metadata": {},
   "outputs": [
    {
     "name": "stdout",
     "output_type": "stream",
     "text": [
      "recommended\n",
      "True     4166\n",
      "False     834\n",
      "Name: count, dtype: int64\n"
     ]
    }
   ],
   "source": [
    "#look at the counts of recommended\n",
    "print(reviews.recommended.value_counts())"
   ]
  },
  {
   "cell_type": "code",
   "execution_count": 16,
   "metadata": {},
   "outputs": [
    {
     "name": "stdout",
     "output_type": "stream",
     "text": [
      "recommended\n",
      "1    4166\n",
      "0     834\n",
      "Name: count, dtype: int64\n"
     ]
    }
   ],
   "source": [
    "#create binary dictionary\n",
    "binary_dict = {True:1, False:0}\n",
    "\n",
    "#transform column\n",
    "reviews.recommended = reviews.recommended.map(binary_dict)\n",
    " \n",
    "#print your transformed column\n",
    "print(reviews.recommended.value_counts())\n"
   ]
  },
  {
   "cell_type": "code",
   "execution_count": 17,
   "metadata": {},
   "outputs": [
    {
     "name": "stdout",
     "output_type": "stream",
     "text": [
      "rating\n",
      "Loved it     2798\n",
      "Liked it     1141\n",
      "Was okay      564\n",
      "Not great     304\n",
      "Hated it      193\n",
      "Name: count, dtype: int64\n"
     ]
    }
   ],
   "source": [
    "#look at the counts of rating\n",
    "print(reviews.rating.value_counts())"
   ]
  },
  {
   "cell_type": "code",
   "execution_count": 18,
   "metadata": {},
   "outputs": [
    {
     "name": "stdout",
     "output_type": "stream",
     "text": [
      "rating\n",
      "5    2798\n",
      "4    1141\n",
      "3     564\n",
      "2     304\n",
      "1     193\n",
      "Name: count, dtype: int64\n"
     ]
    }
   ],
   "source": [
    "#create dictionary\n",
    "rating_dict = {'Loved it':5, 'Liked it':4, 'Was okay':3, 'Not great':2, 'Hated it': 1}\n",
    "\n",
    "#transform rating column\n",
    "reviews.rating = reviews.rating.map(rating_dict)\n",
    "\n",
    "#print your transformed column values\n",
    "print(reviews.rating.value_counts())"
   ]
  },
  {
   "cell_type": "code",
   "execution_count": 19,
   "metadata": {},
   "outputs": [
    {
     "name": "stdout",
     "output_type": "stream",
     "text": [
      "0        Dresses\n",
      "1        Dresses\n",
      "2       Intimate\n",
      "3        Dresses\n",
      "4        Dresses\n",
      "          ...   \n",
      "4995        Tops\n",
      "4996        Tops\n",
      "4997     Dresses\n",
      "4998     Bottoms\n",
      "4999        Tops\n",
      "Name: department_name, Length: 5000, dtype: object\n",
      "Index(['clothing_id', 'age', 'review_title', 'review_text', 'recommended',\n",
      "       'division_name', 'department_name', 'review_date', 'rating', 'Bottoms',\n",
      "       'Dresses', 'Intimate', 'Jackets', 'Tops', 'Trend'],\n",
      "      dtype='object')\n"
     ]
    }
   ],
   "source": [
    "#get the number of categories in a feature\n",
    "print(reviews.department_name)\n",
    "\n",
    "#perform get_dummies\n",
    "one_hot = pd.get_dummies(reviews.department_name)\n",
    "\n",
    "#join the new columns back onto the original\n",
    "reviews = reviews.join(one_hot)\n",
    "\n",
    "#print column names\n",
    "print(reviews.columns)"
   ]
  },
  {
   "cell_type": "code",
   "execution_count": 20,
   "metadata": {},
   "outputs": [
    {
     "name": "stdout",
     "output_type": "stream",
     "text": [
      "datetime64[ns]\n"
     ]
    }
   ],
   "source": [
    "#transform review_date to date-time data\n",
    "reviews['date'] = pd.to_datetime(reviews.review_date)\n",
    "\n",
    "#print review_date data type \n",
    "print(reviews['date'].dtype)\n",
    "reviews['year'] = reviews.date.dt.year"
   ]
  },
  {
   "cell_type": "code",
   "execution_count": 21,
   "metadata": {},
   "outputs": [
    {
     "name": "stdout",
     "output_type": "stream",
     "text": [
      "<class 'pandas.core.frame.DataFrame'>\n",
      "Index: 5000 entries, 1095 to 850\n",
      "Data columns (total 9 columns):\n",
      " #   Column       Non-Null Count  Dtype\n",
      "---  ------       --------------  -----\n",
      " 0   age          5000 non-null   int64\n",
      " 1   recommended  5000 non-null   int64\n",
      " 2   rating       5000 non-null   int64\n",
      " 3   Bottoms      5000 non-null   bool \n",
      " 4   Dresses      5000 non-null   bool \n",
      " 5   Intimate     5000 non-null   bool \n",
      " 6   Jackets      5000 non-null   bool \n",
      " 7   Tops         5000 non-null   bool \n",
      " 8   Trend        5000 non-null   bool \n",
      "dtypes: bool(6), int64(3)\n",
      "memory usage: 185.5 KB\n",
      "None\n",
      "[[-0.34814459  0.44742824 -0.1896478  ... -0.21656679 -0.88496718\n",
      "  -0.07504356]\n",
      " [-1.24475223  0.44742824  0.71602461 ... -0.21656679 -0.88496718\n",
      "  -0.07504356]\n",
      " [-0.51116416  0.44742824  0.71602461 ... -0.21656679 -0.88496718\n",
      "  -0.07504356]\n",
      " ...\n",
      " [-0.59267395  0.44742824  0.71602461 ... -0.21656679 -0.88496718\n",
      "  -0.07504356]\n",
      " [-1.24475223  0.44742824  0.71602461 ... -0.21656679 -0.88496718\n",
      "  -0.07504356]\n",
      " [ 1.68960003  0.44742824  0.71602461 ... -0.21656679  1.12998541\n",
      "  -0.07504356]]\n"
     ]
    }
   ],
   "source": [
    "#get numerical columns\n",
    "reviews = reviews[['clothing_id', 'age', 'recommended', 'rating', 'Bottoms', 'Dresses', 'Intimate', 'Jackets', 'Tops', 'Trend']].copy()\n",
    "\n",
    "#reset index\n",
    "reviews = reviews.set_index('clothing_id')\n",
    "print(reviews.info())\n",
    "\n",
    "#instantiate standard scaler\n",
    "scaler = StandardScaler()\n",
    "#fit transform data\n",
    "result = scaler.fit_transform(reviews)\n",
    "print(result)"
   ]
  },
  {
   "cell_type": "code",
   "execution_count": null,
   "metadata": {},
   "outputs": [],
   "source": []
  }
 ],
 "metadata": {
  "kernelspec": {
   "display_name": "base",
   "language": "python",
   "name": "python3"
  },
  "language_info": {
   "codemirror_mode": {
    "name": "ipython",
    "version": 3
   },
   "file_extension": ".py",
   "mimetype": "text/x-python",
   "name": "python",
   "nbconvert_exporter": "python",
   "pygments_lexer": "ipython3",
   "version": "3.11.4"
  },
  "orig_nbformat": 4
 },
 "nbformat": 4,
 "nbformat_minor": 2
}
