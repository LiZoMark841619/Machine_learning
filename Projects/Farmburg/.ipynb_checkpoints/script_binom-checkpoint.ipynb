{
 "cells": [
  {
   "cell_type": "markdown",
   "metadata": {},
   "source": [
    "Brian is a Product Manager at FarmBurg, a company that makes a farming simulation social network game. In the FarmBurg game, you can plow, plant, and harvest different crops. ​Brian has been conducting an A/B Test with three different variants, and he wants you to help him analyze the results. Using the Python modules pandas and SciPy, you will help him make some important business decisions!\n",
    "\n",
    "Project Requirements\n",
    "1.\n",
    "Brian ran an A/B test with three different groups: A, B, and C. He has provided us with a CSV file of his results named clicks.csv. It has the following columns:\n",
    "\n",
    "user_id: a unique id for each visitor to the FarmBurg site\n",
    "group: either 'A', 'B', or 'C' depending on which group the visitor was assigned to\n",
    "is_purchase: either 'Yes' if the visitor made a purchase or 'No' if they did not.\n",
    "We’ve already imported pandas as pd and loaded clicks.csv as abdata. Inspect the data using the .head() method.\n",
    "\n",
    "2.\n",
    "Note that we have two categorical variables: group and is_purchase. We are interested in whether visitors are more likely to make a purchase if they are in any one group compared to the others. Because we want to know if there is an association between two categorical variables, we’ll start by using a Chi-Square test to address our question.\n",
    "\n",
    "In order to run a Chi-Square test, we first need to create a contingency table of the variables group and is_purchase. Use pd.crosstab() to create this table and name the result Xtab, then print it out. Which group appears to have the highest number of purchases?"
   ]
  },
  {
   "cell_type": "code",
   "execution_count": 30,
   "metadata": {},
   "outputs": [
    {
     "name": "stdout",
     "output_type": "stream",
     "text": [
      "    user_id group is_purchase\n",
      "0  8e27bf9a     A          No\n",
      "1  eb89e6f0     A          No\n",
      "2  7119106a     A          No\n",
      "3  e53781ff     A          No \n",
      "\n",
      "is_purchase    No  Yes\n",
      "group                 \n",
      "A            1350  316\n",
      "B            1483  183\n",
      "C            1583   83 \n",
      "\n"
     ]
    }
   ],
   "source": [
    "# Import libraries\n",
    "import pandas as pd\n",
    "import numpy as np\n",
    "from scipy.stats import chi2_contingency, binomtest\n",
    "\n",
    "# Read in the `clicks.csv` file as `abdata`\n",
    "abdata = pd.read_csv('clicks.csv')\n",
    "print(abdata.head(4),'\\n')\n",
    "\n",
    "Xtab = pd.crosstab(abdata.group, abdata.is_purchase)\n",
    "print(Xtab,'\\n')"
   ]
  },
  {
   "cell_type": "markdown",
   "metadata": {},
   "source": [
    "3.\n",
    "To conduct the Chi-Square Test, import chi2_contingency from scipy.stats.\n",
    "\n",
    "Then, use the function chi2_contingency with the data in Xtab to calculate the p-value. Remember that of the four values returned by chi2_contingency, the p-value is the second value.\n",
    "\n",
    "Save the p-value to a variable named pval and print the result. Using a significance threshold of 0.05, is there a significant difference in the purchase rate for groups A, B, and C?"
   ]
  },
  {
   "cell_type": "code",
   "execution_count": 31,
   "metadata": {},
   "outputs": [
    {
     "name": "stdout",
     "output_type": "stream",
     "text": [
      "The pval is :2.412621354668426e-35 which is lower than the significance threshold, meaning the Null hypothesis is not true. It also means that there is significant difference between the purchase rate in the different groups.\n",
      "\n"
     ]
    }
   ],
   "source": [
    "stat, pval, dof, expected = chi2_contingency(Xtab)\n",
    "sig = 0.05\n",
    "if pval < sig:\n",
    "  print(f'The pval is :{pval} which is lower than the significance threshold, meaning the Null hypothesis is not true. It also means that there is significant difference between the purchase rate in the different groups.\\n')\n"
   ]
  },
  {
   "cell_type": "markdown",
   "metadata": {},
   "source": [
    "\n",
    "4.\n",
    "Our day is a little less busy than expected, so we decide to ask Brian about his test.\n",
    "\n",
    "Us: Hey Brian! What was that test you were running anyway?\n",
    "\n",
    "Brian: We are trying to get users to purchase a small FarmBurg upgrade package. It’s called a microtransaction. We’re not sure how much to charge for it, so we tested three different price points: $0.99 (group 'A'), $1.99 (group 'B'), and $4.99 (group 'C'). It looks like significantly more people bought the upgrade package for $0.99, so I guess that’s what we’ll charge.\n",
    "\n",
    "Us: Oh no! We should have asked you this before we did that Chi-Square test. That wasn’t the right test at all. It’s true that more people wanted to purchase the upgrade at $0.99; you probably expected that. What we really want to know is whether each price point allows us to make enough money that we can exceed some target goal. Brian, how much do you think it cost to build this feature?\n",
    "\n",
    "Brian: Hmm. I guess that we need to generate a minimum of $1000 in revenue per week in order to justify this project.\n",
    "\n",
    "Us: We have some work to do!\n",
    "\n",
    "In order to justify this feature, we will need to calculate the necessary purchase rate for each price point. Let’s start by calculating the number of visitors to the site this week.\n",
    "\n",
    "It turns out that Brian ran his original test over the course of a week, so the number of visitors in abdata is equal to the number of visitors in a typical week. Calculate the number of visitors in the data and save the value in a variable named num_visits. Make sure to print the value.\n",
    "\n",
    "\n",
    "5.\n",
    "Now that we know how many visitors we generally get each week (num_visits), we need to calculate the number of visitors who would need to purchase the upgrade package at each price point ($0.99, $1.99, $4.99) in order to generate Brian’s minimum revenue target of $1,000 per week.\n",
    "\n",
    "To start, calculate the number of sales that would be needed to reach $1,000 dollars of revenue at a price point of $0.99. Save the result as num_sales_needed_099 and print it out.\n",
    "\n",
    "\n",
    "6.\n",
    "Now that we know how many sales we need at a $0.99 price point, calculate the proportion of weekly visitors who would need to make a purchase in order to meet that goal. Remember that the number of weekly visitors is saved as num_visits. Save the result as p_sales_needed_099 and print it out.\n",
    "\n",
    "\n",
    "7.\n",
    "Repeat the steps from tasks 5 and 6 for the other price points ($1.99 and $4.99). Save the number of sales needed for each price point as num_sales_needed_199 and num_sales_needed_499, respectively. Then, save the proportion of visits needed as p_sales_needed_199 and p_sales_needed_499, respectively.\n",
    "\n",
    "Print out the proportions. Note that for higher price points, you’ll need to sell fewer upgrade packages in order to meet your minimum revenue target — so the proportions should decrease as the price points increase."
   ]
  },
  {
   "cell_type": "code",
   "execution_count": 32,
   "metadata": {},
   "outputs": [
    {
     "name": "stdout",
     "output_type": "stream",
     "text": [
      "Number of visits: 4998\n",
      "\n",
      "0.99$ price point\n",
      "Number of total sales: 582\n",
      "Needed number of sales 1010\n",
      "Proportion of visitors: 0.2\n",
      "\n",
      "1.99$ price point\n",
      "Number of total sales: 582\n",
      "Needed number of sales 502\n",
      "Proportion of visitors: 0.1\n",
      "\n",
      "4.99$ price point\n",
      "Number of total sales: 582\n",
      "Needed number of sales 200\n",
      "Proportion of visitors: 0.04\n",
      "\n"
     ]
    }
   ],
   "source": [
    "num_visits = len(abdata.user_id)\n",
    "print(f'Number of visits: {num_visits}\\n')\n",
    "\n",
    "print('0.99$ price point')\n",
    "total_sales = np.sum(Xtab['Yes'])\n",
    "print(f'Number of total sales: {total_sales}')\n",
    "num_sales_needed_099 = int(1000 // 0.99)\n",
    "print(f'Needed number of sales {num_sales_needed_099}')\n",
    "p_sales_needed_099 = round(num_sales_needed_099 / num_visits,2)\n",
    "print(f'Proportion of visitors: {p_sales_needed_099}\\n')\n",
    "\n",
    "print('1.99$ price point')\n",
    "total_sales = np.sum(Xtab['Yes'])\n",
    "print(f'Number of total sales: {total_sales}')\n",
    "num_sales_needed_199 = int(1000 // 1.99)\n",
    "print(f'Needed number of sales {num_sales_needed_199}')\n",
    "p_sales_needed_199 = round(num_sales_needed_199 / num_visits,2)\n",
    "print(f'Proportion of visitors: {p_sales_needed_199}\\n')\n",
    "\n",
    "print('4.99$ price point')\n",
    "total_sales = np.sum(Xtab['Yes'])\n",
    "print(f'Number of total sales: {total_sales}')\n",
    "num_sales_needed_499 = int(1000 // 4.99)\n",
    "print(f'Needed number of sales {num_sales_needed_499}')\n",
    "p_sales_needed_499 = round(num_sales_needed_499 / num_visits,2)\n",
    "print(f'Proportion of visitors: {p_sales_needed_499}\\n')"
   ]
  },
  {
   "cell_type": "markdown",
   "metadata": {},
   "source": [
    "8.\n",
    "Now let’s return to Brian’s question. To start, we want to know if the percent of Group A (the $0.99 price point) that purchased an upgrade package is significantly greater than p_sales_needed_099 (the percent of visitors who need to buy an upgrade package at $0.99 in order to make our minimum revenue target of $1,000).\n",
    "\n",
    "To answer this question, we want to focus on just the visitors in group A. Then, we want to compare the number of purchases in that group to p_sales_needed_099.\n",
    "\n",
    "Since we have a single sample of categorical data and want to compare it to a hypothetical population value, a binomial test is appropriate. In order to run a binomial test for group A, we need to know two pieces of information:\n",
    "\n",
    "The number of visitors in group A (the number of visitors who were offered the $0.99 price point)\n",
    "The number of visitors in Group A who made a purchase\n",
    "Calculate these two numbers and save them as samp_size_099 and sales_099, respectively. Note that you can use the contingency table that you printed earlier to get these numbers OR you can use Python syntax.\n",
    "\n",
    "\n",
    "9.\n",
    "Calculate the sample size and number of purchases in group B (the $1.99 price point) and save them as samp_size_199 and sales_199, respectively. Then do the same for group C (the $4.99 price point) and save them as samp_size_499 and sales_499, respectively.\n",
    "\n",
    "\n",
    "10.\n",
    "For Group A ($0.99 price point), perform a binomial test using binom_test() to see if the observed purchase rate is significantly greater than p_sales_needed_099. Remember that there are four inputs to binom_test():\n",
    "\n",
    "x will be the number of purchases for Group A\n",
    "n will be the total number of visitors assigned group A\n",
    "p will be the target percent of purchases for the $0.99 price point\n",
    "alternative will indicate the alternative hypothesis for this test; in this case, we want to know if the observed purchase rate is significantly 'greater' than the purchase rate that results in the minimum revenue target.\n",
    "Save the results to pvalueA, and print its value. Note that you’ll first need to import the binom_test() function from scipy.stats using the following line of code:\n",
    "\n",
    "from scipy.stats import binom_test\n",
    "\n",
    "\n",
    "11.\n",
    "For Group B ($1.99 price point), perform a binomial test to see if the observed purchase rate is significantly greater than p_sales_needed_199.\n",
    "\n",
    "Save the results to pvalueB, and print its value.\n",
    "\n",
    "\n",
    "12.\n",
    "For Group C ($4.99 price point), perform a binomial test to see if the observed purchase rate is significantly greater than p_sales_needed_499.\n",
    "\n",
    "Save the results to pvalueC, and print its value."
   ]
  },
  {
   "cell_type": "code",
   "execution_count": 33,
   "metadata": {},
   "outputs": [
    {
     "name": "stdout",
     "output_type": "stream",
     "text": [
      "Visitors in group A: 1666\n",
      "Purchasers in group A: 316\n",
      "\n",
      "Visitors in group B: 1666\n",
      "Purchasers in group B: 183\n",
      "\n",
      "Visitors in group C: 1666\n",
      "Purchasers in group C: 83\n",
      "\n"
     ]
    }
   ],
   "source": [
    "samp_size_099 = len(abdata[abdata.group == 'A'])\n",
    "sales_099 = Xtab['Yes'][0]\n",
    "print(f'Visitors in group A: {samp_size_099}')\n",
    "print(f'Purchasers in group A: {sales_099}\\n')\n",
    "\n",
    "samp_size_199 = len(abdata[abdata.group == 'B'])\n",
    "sales_199 = Xtab['Yes'][1]\n",
    "print(f'Visitors in group B: {samp_size_199}')\n",
    "print(f'Purchasers in group B: {sales_199}\\n')\n",
    "\n",
    "samp_size_499 = len(abdata[abdata.group == 'C'])\n",
    "sales_499 = Xtab['Yes'][2]\n",
    "print(f'Visitors in group C: {samp_size_499}')\n",
    "print(f'Purchasers in group C: {sales_499}\\n')"
   ]
  },
  {
   "cell_type": "markdown",
   "metadata": {},
   "source": [
    "13.\n",
    "Based on the three p-values you calculated for the binomial tests in each group and a significance threshold of 0.05, were there any groups where the purchase rate was significantly higher than the target? Based on this information, what price should Brian charge for the upgrade package?"
   ]
  },
  {
   "cell_type": "code",
   "execution_count": 34,
   "metadata": {},
   "outputs": [
    {
     "name": "stdout",
     "output_type": "stream",
     "text": [
      "BinomTestResult(k=316, n=1666, alternative='greater', statistic=0.18967587034813926, pvalue=0.8611009059109027)\n",
      "BinomTestResult(k=183, n=1666, alternative='greater', statistic=0.10984393757503001, pvalue=0.09825889836037743)\n",
      "BinomTestResult(k=83, n=1666, alternative='greater', statistic=0.04981992797118848, pvalue=0.026639546659898393)\n"
     ]
    }
   ],
   "source": [
    "pvalueA = binomtest(sales_099, samp_size_099, p=p_sales_needed_099, alternative='greater')\n",
    "print(pvalueA)\n",
    "\n",
    "pvalueB = binomtest(sales_199, samp_size_199, p=p_sales_needed_199, alternative='greater')\n",
    "print(pvalueB)\n",
    "\n",
    "pvalueC = binomtest(sales_499, samp_size_499, p=p_sales_needed_499, alternative='greater')\n",
    "print(pvalueC)"
   ]
  }
 ],
 "metadata": {
  "kernelspec": {
   "display_name": "Python 3",
   "language": "python",
   "name": "python3"
  },
  "language_info": {
   "codemirror_mode": {
    "name": "ipython",
    "version": 3
   },
   "file_extension": ".py",
   "mimetype": "text/x-python",
   "name": "python",
   "nbconvert_exporter": "python",
   "pygments_lexer": "ipython3",
   "version": "3.11.4"
  },
  "orig_nbformat": 4
 },
 "nbformat": 4,
 "nbformat_minor": 2
}
